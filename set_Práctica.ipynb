{
  "nbformat": 4,
  "nbformat_minor": 0,
  "metadata": {
    "colab": {
      "provenance": [],
      "include_colab_link": true
    },
    "kernelspec": {
      "name": "python3",
      "display_name": "Python 3"
    },
    "language_info": {
      "name": "python"
    }
  },
  "cells": [
    {
      "cell_type": "markdown",
      "metadata": {
        "id": "view-in-github",
        "colab_type": "text"
      },
      "source": [
        "<a href=\"https://colab.research.google.com/github/LuciaRioss/tps-pii-colab/blob/main/set_Pr%C3%A1ctica.ipynb\" target=\"_parent\"><img src=\"https://colab.research.google.com/assets/colab-badge.svg\" alt=\"Open In Colab\"/></a>"
      ]
    },
    {
      "cell_type": "code",
      "execution_count": 1,
      "metadata": {
        "id": "8VOD-zpMJovw"
      },
      "outputs": [],
      "source": [
        "estudiantes = [\n",
        "    {'name': 'Abud Laspiur, Lourdes Mariel', 'section': 'C', 'dob': '05/12/2006'},\n",
        "    {'name': 'Amador, Luana Micaela', 'section': 'C', 'dob': '09/12/2006'},\n",
        "    {'name': 'Anaquin, Leonardo Ezequiel', 'section': 'C', 'dob': '06/09/2005'},\n",
        "    {'name': 'Araoz Sanchez, Lautaro Nahuel', 'section': 'C', 'dob': '28/12/2005'},\n",
        "    {'name': 'Argañaraz, Agostina Abril', 'section': 'C', 'dob': '11/10/2006'},\n",
        "    {'name': 'Barrera, Matias Ezequiel', 'section': 'C', 'dob': '27/02/2007'},\n",
        "    {'name': 'Barrera, Matias Ezequiel', 'section': 'C', 'dob': '27/02/2007'},  # Repetido\n",
        "    {'name': 'Barrozo Vedia, Joaquin Nicolas', 'section': 'C', 'dob': '15/04/2006'},\n",
        "    {'name': 'Bettinelli, Valentino', 'section': 'C', 'dob': '12/07/2006'},\n",
        "    {'name': 'Bracamonte Martinez, Salvador', 'section': 'C', 'dob': '02/11/2005'},\n",
        "    {'name': 'Colque Rivero, Ariana Zoe Del Valle', 'section': 'C', 'dob': '27/12/2006'},\n",
        "    {'name': 'Diaz, Dulce Maitena', 'section': 'C', 'dob': '11/12/2006'},\n",
        "    {'name': 'Figueroa, Santino Josue', 'section': 'C', 'dob': '12/05/2007'},\n",
        "    {'name': 'Figueroa, Santino Josue', 'section': 'C', 'dob': '12/05/2007'},  # Repetido\n",
        "    {'name': 'Flores Cardozo, Agustina Tiara', 'section': 'C', 'dob': '18/03/2006'},\n",
        "    {'name': 'Gallo, Octavio Ismael', 'section': 'C', 'dob': '04/08/2006'},\n",
        "    {'name': 'Galvan, Lourdes Yamila', 'section': 'C', 'dob': '19/08/2005'},\n",
        "    {'name': 'Giangreco, Vitto Tomasso', 'section': 'C', 'dob': '21/03/2007'},\n",
        "    {'name': 'Grancara, Martina Luna', 'section': 'C', 'dob': '15/12/2006'},\n",
        "    {'name': 'Guanca, Sara Elizabeth', 'section': 'C', 'dob': '17/01/2007'},\n",
        "    {'name': 'Lopez, Victoria Constanza', 'section': 'C', 'dob': '12/11/2007'},\n",
        "    {'name': 'Mamani Garrido, Rosario Agostina', 'section': 'C', 'dob': '24/10/2006'},\n",
        "    {'name': 'Marinaro, Martin Ezequiel', 'section': 'C', 'dob': '03/11/2006'},\n",
        "    {'name': 'Merluzzi Dagum, Ignacio', 'section': 'C', 'dob': '22/12/2005'},\n",
        "    {'name': 'Messina, Martina', 'section': 'C', 'dob': '13/07/2005'},\n",
        "    {'name': 'Rasuk, Karim', 'section': 'C', 'dob': '13/07/2007'},\n",
        "    {'name': 'Rasuk, Karim', 'section': 'C', 'dob': '13/07/2007'},  # Repetido\n",
        "    {'name': 'Rios, Lucia Magali', 'section': 'C', 'dob': '22/09/2006'},\n",
        "    {'name': 'Sanchez Flores, Matías Agustín', 'section': 'C', 'dob': '15/02/2007'},\n",
        "    {'name': 'Scarano, Renato Marcelo', 'section': 'C', 'dob': '06/12/2006'},\n",
        "    {'name': 'Sierra, Lucas Mauricio', 'section': 'C', 'dob': '03/04/2005'},\n",
        "    {'name': 'Tapia, Martin Gabriel', 'section': 'C', 'dob': '30/05/2006'},\n",
        "    {'name': 'Vilte, Mia Antonella Alondra', 'section': 'C', 'dob': '10/09/2005'},\n",
        "    {'name': 'Virgillito, Katya Milena', 'section': 'C', 'dob': '19/06/2007'},\n",
        "    {'name': 'Alurralde, Solange Stefania', 'section': 'D', 'dob': '02/04/2007'},\n",
        "    {'name': 'Alvarado, Ludmila Del Milagro', 'section': 'D', 'dob': '06/09/2006'},\n",
        "    {'name': 'Angel, Camila Juliana', 'section': 'D', 'dob': '07/03/2007'},\n",
        "    {'name': 'Arenas, Lucas Gabriel', 'section': 'D', 'dob': '26/06/2007'},\n",
        "    {'name': 'Caseres, Maria Antonia', 'section': 'D', 'dob': '01/07/2006'},\n",
        "    {'name': 'Castillo, Paulina Milagros', 'section': 'D', 'dob': '01/06/2007'},\n",
        "    {'name': 'Correa Segovia, Hugo Mariano', 'section': 'D', 'dob': '04/12/2006'},\n",
        "    {'name': 'Correa Segovia, Hugo Mariano', 'section': 'D', 'dob': '04/12/2006'},  # Repetido\n",
        "    {'name': 'D Elia, Alvaro Tadeo', 'section': 'D', 'dob': '27/08/2006'},\n",
        "    {'name': 'Flores, Victoria Agustina', 'section': 'D', 'dob': '12/12/2006'},\n",
        "    {'name': 'Geronimo Soriano, Lizzie Amaya', 'section': 'D', 'dob': '20/01/2007'},\n",
        "    {'name': 'Guzman, Angélica Morena', 'section': 'D', 'dob': '11/04/2007'},\n",
        "    {'name': 'Guzman, Jazmin Esmeralda Belen', 'section': 'D', 'dob': '31/07/2006'},\n",
        "    {'name': 'Jaime, Anita Maria Belen', 'section': 'D', 'dob': '19/04/2007'},\n",
        "    {'name': 'Lacour Polo, Nazarena', 'section': 'D', 'dob': '19/12/2005'},\n",
        "    {'name': 'Lascano Guanca, Marcelo Fabricio', 'section': 'D', 'dob': '17/02/2006'},\n",
        "    {'name': 'Lezcano, Celia Morena', 'section': 'D', 'dob': '01/07/2005'},\n",
        "    {'name': 'Martinez, Tomas Andres', 'section': 'D', 'dob': '22/03/2007'},\n",
        "    {'name': 'Portella Valdivia, Pedro Francisco', 'section': 'D', 'dob': '24/01/2007'},\n",
        "    {'name': 'Retamal Cisneros, Zacarias Josue', 'section': 'D', 'dob': '24/02/2007'},\n",
        "    {'name': 'Rosales, Francisco Gabriel', 'section': 'D', 'dob': '14/11/2006'},\n",
        "    {'name': 'Salem Barba, Mahia', 'section': 'D', 'dob': '14/10/2005'},\n",
        "    {'name': 'Soto Camara, Agustin Ignacio', 'section': 'D', 'dob': '07/11/2005'},\n",
        "    {'name': 'Villalba, Irina', 'section': 'D', 'dob': '09/09/2006'},\n",
        "    {'name': 'Voltolini, Emanuel Tobias', 'section': 'D', 'dob': '17/09/2006'},\n",
        "    {'name': 'Zalazar, Santino Stefano', 'section': 'D', 'dob': '30/09/2006'},\n",
        "    {'name': 'Zalazar, Santino Stefano', 'section': 'D', 'dob': '30/09/2006'}  # Repetido\n",
        "]\n"
      ]
    },
    {
      "cell_type": "code",
      "source": [
        "# Spoiler de estructura que veremos en los siguientes TPs\n",
        "import json\n",
        "for estudiante in estudiantes:\n",
        "  alumno_json = json.dumps(estudiante,indent=4,ensure_ascii=False)\n",
        "  print(alumno_json,\",\")"
      ],
      "metadata": {
        "colab": {
          "base_uri": "https://localhost:8080/"
        },
        "id": "7lcHoIqemYFH",
        "outputId": "433f5b24-ee3e-4c81-be7e-f0e112350a24"
      },
      "execution_count": null,
      "outputs": [
        {
          "output_type": "stream",
          "name": "stdout",
          "text": [
            "{\n",
            "    \"name\": \"Abud Laspiur, Lourdes Mariel\",\n",
            "    \"section\": \"C\",\n",
            "    \"dob\": \"05/12/2006\"\n",
            "} ,\n",
            "{\n",
            "    \"name\": \"Amador, Luana Micaela\",\n",
            "    \"section\": \"C\",\n",
            "    \"dob\": \"09/12/2006\"\n",
            "} ,\n",
            "{\n",
            "    \"name\": \"Anaquin, Leonardo Ezequiel\",\n",
            "    \"section\": \"C\",\n",
            "    \"dob\": \"06/09/2005\"\n",
            "} ,\n",
            "{\n",
            "    \"name\": \"Araoz Sanchez, Lautaro Nahuel\",\n",
            "    \"section\": \"C\",\n",
            "    \"dob\": \"28/12/2005\"\n",
            "} ,\n",
            "{\n",
            "    \"name\": \"Argañaraz, Agostina Abril\",\n",
            "    \"section\": \"C\",\n",
            "    \"dob\": \"11/10/2006\"\n",
            "} ,\n",
            "{\n",
            "    \"name\": \"Barrera, Matias Ezequiel\",\n",
            "    \"section\": \"C\",\n",
            "    \"dob\": \"27/02/2007\"\n",
            "} ,\n",
            "{\n",
            "    \"name\": \"Barrera, Matias Ezequiel\",\n",
            "    \"section\": \"C\",\n",
            "    \"dob\": \"27/02/2007\"\n",
            "} ,\n",
            "{\n",
            "    \"name\": \"Barrozo Vedia, Joaquin Nicolas\",\n",
            "    \"section\": \"C\",\n",
            "    \"dob\": \"15/04/2006\"\n",
            "} ,\n",
            "{\n",
            "    \"name\": \"Bettinelli, Valentino\",\n",
            "    \"section\": \"C\",\n",
            "    \"dob\": \"12/07/2006\"\n",
            "} ,\n",
            "{\n",
            "    \"name\": \"Bracamonte Martinez, Salvador\",\n",
            "    \"section\": \"C\",\n",
            "    \"dob\": \"02/11/2005\"\n",
            "} ,\n",
            "{\n",
            "    \"name\": \"Colque Rivero, Ariana Zoe Del Valle\",\n",
            "    \"section\": \"C\",\n",
            "    \"dob\": \"27/12/2006\"\n",
            "} ,\n",
            "{\n",
            "    \"name\": \"Diaz, Dulce Maitena\",\n",
            "    \"section\": \"C\",\n",
            "    \"dob\": \"11/12/2006\"\n",
            "} ,\n",
            "{\n",
            "    \"name\": \"Figueroa, Santino Josue\",\n",
            "    \"section\": \"C\",\n",
            "    \"dob\": \"12/05/2007\"\n",
            "} ,\n",
            "{\n",
            "    \"name\": \"Figueroa, Santino Josue\",\n",
            "    \"section\": \"C\",\n",
            "    \"dob\": \"12/05/2007\"\n",
            "} ,\n",
            "{\n",
            "    \"name\": \"Flores Cardozo, Agustina Tiara\",\n",
            "    \"section\": \"C\",\n",
            "    \"dob\": \"18/03/2006\"\n",
            "} ,\n",
            "{\n",
            "    \"name\": \"Gallo, Octavio Ismael\",\n",
            "    \"section\": \"C\",\n",
            "    \"dob\": \"04/08/2006\"\n",
            "} ,\n",
            "{\n",
            "    \"name\": \"Galvan, Lourdes Yamila\",\n",
            "    \"section\": \"C\",\n",
            "    \"dob\": \"19/08/2005\"\n",
            "} ,\n",
            "{\n",
            "    \"name\": \"Giangreco, Vitto Tomasso\",\n",
            "    \"section\": \"C\",\n",
            "    \"dob\": \"21/03/2007\"\n",
            "} ,\n",
            "{\n",
            "    \"name\": \"Grancara, Martina Luna\",\n",
            "    \"section\": \"C\",\n",
            "    \"dob\": \"15/12/2006\"\n",
            "} ,\n",
            "{\n",
            "    \"name\": \"Guanca, Sara Elizabeth\",\n",
            "    \"section\": \"C\",\n",
            "    \"dob\": \"17/01/2007\"\n",
            "} ,\n",
            "{\n",
            "    \"name\": \"Lopez, Victoria Constanza\",\n",
            "    \"section\": \"C\",\n",
            "    \"dob\": \"12/11/2007\"\n",
            "} ,\n",
            "{\n",
            "    \"name\": \"Mamani Garrido, Rosario Agostina\",\n",
            "    \"section\": \"C\",\n",
            "    \"dob\": \"24/10/2006\"\n",
            "} ,\n",
            "{\n",
            "    \"name\": \"Marinaro, Martin Ezequiel\",\n",
            "    \"section\": \"C\",\n",
            "    \"dob\": \"03/11/2006\"\n",
            "} ,\n",
            "{\n",
            "    \"name\": \"Merluzzi Dagum, Ignacio\",\n",
            "    \"section\": \"C\",\n",
            "    \"dob\": \"22/12/2005\"\n",
            "} ,\n",
            "{\n",
            "    \"name\": \"Messina, Martina\",\n",
            "    \"section\": \"C\",\n",
            "    \"dob\": \"13/07/2005\"\n",
            "} ,\n",
            "{\n",
            "    \"name\": \"Rasuk, Karim\",\n",
            "    \"section\": \"C\",\n",
            "    \"dob\": \"13/07/2007\"\n",
            "} ,\n",
            "{\n",
            "    \"name\": \"Rasuk, Karim\",\n",
            "    \"section\": \"C\",\n",
            "    \"dob\": \"13/07/2007\"\n",
            "} ,\n",
            "{\n",
            "    \"name\": \"Rios, Lucia Magali\",\n",
            "    \"section\": \"C\",\n",
            "    \"dob\": \"22/09/2006\"\n",
            "} ,\n",
            "{\n",
            "    \"name\": \"Sanchez Flores, Matías Agustín\",\n",
            "    \"section\": \"C\",\n",
            "    \"dob\": \"15/02/2007\"\n",
            "} ,\n",
            "{\n",
            "    \"name\": \"Scarano, Renato Marcelo\",\n",
            "    \"section\": \"C\",\n",
            "    \"dob\": \"06/12/2006\"\n",
            "} ,\n",
            "{\n",
            "    \"name\": \"Sierra, Lucas Mauricio\",\n",
            "    \"section\": \"C\",\n",
            "    \"dob\": \"03/04/2005\"\n",
            "} ,\n",
            "{\n",
            "    \"name\": \"Tapia, Martin Gabriel\",\n",
            "    \"section\": \"C\",\n",
            "    \"dob\": \"30/05/2006\"\n",
            "} ,\n",
            "{\n",
            "    \"name\": \"Vilte, Mia Antonella Alondra\",\n",
            "    \"section\": \"C\",\n",
            "    \"dob\": \"10/09/2005\"\n",
            "} ,\n",
            "{\n",
            "    \"name\": \"Virgillito, Katya Milena\",\n",
            "    \"section\": \"C\",\n",
            "    \"dob\": \"19/06/2007\"\n",
            "} ,\n",
            "{\n",
            "    \"name\": \"Alurralde, Solange Stefania\",\n",
            "    \"section\": \"D\",\n",
            "    \"dob\": \"02/04/2007\"\n",
            "} ,\n",
            "{\n",
            "    \"name\": \"Alvarado, Ludmila Del Milagro\",\n",
            "    \"section\": \"D\",\n",
            "    \"dob\": \"06/09/2006\"\n",
            "} ,\n",
            "{\n",
            "    \"name\": \"Angel, Camila Juliana\",\n",
            "    \"section\": \"D\",\n",
            "    \"dob\": \"07/03/2007\"\n",
            "} ,\n",
            "{\n",
            "    \"name\": \"Arenas, Lucas Gabriel\",\n",
            "    \"section\": \"D\",\n",
            "    \"dob\": \"26/06/2007\"\n",
            "} ,\n",
            "{\n",
            "    \"name\": \"Caseres, Maria Antonia\",\n",
            "    \"section\": \"D\",\n",
            "    \"dob\": \"01/07/2006\"\n",
            "} ,\n",
            "{\n",
            "    \"name\": \"Castillo, Paulina Milagros\",\n",
            "    \"section\": \"D\",\n",
            "    \"dob\": \"01/06/2007\"\n",
            "} ,\n",
            "{\n",
            "    \"name\": \"Correa Segovia, Hugo Mariano\",\n",
            "    \"section\": \"D\",\n",
            "    \"dob\": \"04/12/2006\"\n",
            "} ,\n",
            "{\n",
            "    \"name\": \"Correa Segovia, Hugo Mariano\",\n",
            "    \"section\": \"D\",\n",
            "    \"dob\": \"04/12/2006\"\n",
            "} ,\n",
            "{\n",
            "    \"name\": \"D Elia, Alvaro Tadeo\",\n",
            "    \"section\": \"D\",\n",
            "    \"dob\": \"27/08/2006\"\n",
            "} ,\n",
            "{\n",
            "    \"name\": \"Flores, Victoria Agustina\",\n",
            "    \"section\": \"D\",\n",
            "    \"dob\": \"12/12/2006\"\n",
            "} ,\n",
            "{\n",
            "    \"name\": \"Geronimo Soriano, Lizzie Amaya\",\n",
            "    \"section\": \"D\",\n",
            "    \"dob\": \"20/01/2007\"\n",
            "} ,\n",
            "{\n",
            "    \"name\": \"Guzman, Angélica Morena\",\n",
            "    \"section\": \"D\",\n",
            "    \"dob\": \"11/04/2007\"\n",
            "} ,\n",
            "{\n",
            "    \"name\": \"Guzman, Jazmin Esmeralda Belen\",\n",
            "    \"section\": \"D\",\n",
            "    \"dob\": \"31/07/2006\"\n",
            "} ,\n",
            "{\n",
            "    \"name\": \"Jaime, Anita Maria Belen\",\n",
            "    \"section\": \"D\",\n",
            "    \"dob\": \"19/04/2007\"\n",
            "} ,\n",
            "{\n",
            "    \"name\": \"Lacour Polo, Nazarena\",\n",
            "    \"section\": \"D\",\n",
            "    \"dob\": \"19/12/2005\"\n",
            "} ,\n",
            "{\n",
            "    \"name\": \"Lascano Guanca, Marcelo Fabricio\",\n",
            "    \"section\": \"D\",\n",
            "    \"dob\": \"17/02/2006\"\n",
            "} ,\n",
            "{\n",
            "    \"name\": \"Lezcano, Celia Morena\",\n",
            "    \"section\": \"D\",\n",
            "    \"dob\": \"01/07/2005\"\n",
            "} ,\n",
            "{\n",
            "    \"name\": \"Martinez, Tomas Andres\",\n",
            "    \"section\": \"D\",\n",
            "    \"dob\": \"22/03/2007\"\n",
            "} ,\n",
            "{\n",
            "    \"name\": \"Portella Valdivia, Pedro Francisco\",\n",
            "    \"section\": \"D\",\n",
            "    \"dob\": \"24/01/2007\"\n",
            "} ,\n",
            "{\n",
            "    \"name\": \"Retamal Cisneros, Zacarias Josue\",\n",
            "    \"section\": \"D\",\n",
            "    \"dob\": \"24/02/2007\"\n",
            "} ,\n",
            "{\n",
            "    \"name\": \"Rosales, Francisco Gabriel\",\n",
            "    \"section\": \"D\",\n",
            "    \"dob\": \"14/11/2006\"\n",
            "} ,\n",
            "{\n",
            "    \"name\": \"Salem Barba, Mahia\",\n",
            "    \"section\": \"D\",\n",
            "    \"dob\": \"14/10/2005\"\n",
            "} ,\n",
            "{\n",
            "    \"name\": \"Soto Camara, Agustin Ignacio\",\n",
            "    \"section\": \"D\",\n",
            "    \"dob\": \"07/11/2005\"\n",
            "} ,\n",
            "{\n",
            "    \"name\": \"Villalba, Irina\",\n",
            "    \"section\": \"D\",\n",
            "    \"dob\": \"09/09/2006\"\n",
            "} ,\n",
            "{\n",
            "    \"name\": \"Voltolini, Emanuel Tobias\",\n",
            "    \"section\": \"D\",\n",
            "    \"dob\": \"17/09/2006\"\n",
            "} ,\n",
            "{\n",
            "    \"name\": \"Zalazar, Santino Stefano\",\n",
            "    \"section\": \"D\",\n",
            "    \"dob\": \"30/09/2006\"\n",
            "} ,\n",
            "{\n",
            "    \"name\": \"Zalazar, Santino Stefano\",\n",
            "    \"section\": \"D\",\n",
            "    \"dob\": \"30/09/2006\"\n",
            "} ,\n"
          ]
        }
      ]
    },
    {
      "cell_type": "markdown",
      "source": [
        "## Dada la lista estudiantes:\n",
        "> - Hacer una celda para resolver cada punto.\n",
        "- El TP resuelto será revisado en tu repositorio, no es necesario que lo envíes, pero sí que lo pushees correctamente.\n",
        "- En la nota inicial se contempla:\n",
        "  - La incorporación de este documento a tu propio respositorio.\n",
        "  - El pusheo de los cambios realizados.\n",
        "  - La resolución de los ejercicios propuestos.\n"
      ],
      "metadata": {
        "id": "rd6Ug6v3J4uN"
      }
    },
    {
      "cell_type": "markdown",
      "source": [
        "1. Dada la lista de estudiantes, elimina los elementos repetidos de la misma, usando para ello una estructura set. El resultado final debe ser una lista, con la misma estructura de la original, pero sin datos repetidos.\n",
        "\n",
        "Para esto tener en cuenta que:\n",
        "- Los conjuntos solo pueden almacenar datos inmutables.\n",
        "- Los diccionarios son estructuras mutables.\n",
        "- dict.items() devuelve una lista de tuplas.\n",
        "- dict(tupla) genera un diccionario, donde el primer elemento de la tupla es la clave, y el segundo el valor. Ej:\n",
        "  -\n",
        "  ```python\n",
        "  dict([(\"Alberto\", 10), (\"José\", 7), (\"Dario\", 14), (\"Ana\", 8), (\"Maria\", 9), (\"Emilia\", 10)])\n",
        "\n",
        "  va a generar el siguiente diccionario:\n",
        "\n",
        "  ```python\n",
        "  {'Alberto': 10, 'José': 7, 'Dario': 14, 'Ana': 8, 'Maria': 9, 'Emilia': 10}\n",
        "  ```\n",
        "\n"
      ],
      "metadata": {
        "id": "wRLng-uURyJ3"
      }
    },
    {
      "cell_type": "code",
      "source": [
        "lista_tuplas=[]\n",
        "estudiantes_sin_repetidos=[]\n",
        "for estudiante in estudiantes:\n",
        "  tupla=tuple(estudiante.items())\n",
        "  lista_tuplas.append(tupla)\n",
        "conjunto_tuplas=set(lista_tuplas)\n",
        "for estudiante in conjunto_tuplas:\n",
        "  un_estudiante=dict(estudiante)\n",
        "  estudiantes_sin_repetidos.append(un_estudiante)\n",
        "for estudiante in estudiantes_sin_repetidos:\n",
        "  print(estudiante)"
      ],
      "metadata": {
        "id": "TSuew0MWN7Ci",
        "outputId": "b6b86eb0-d3b4-47d7-8e2e-38d037dfaebf",
        "colab": {
          "base_uri": "https://localhost:8080/"
        }
      },
      "execution_count": 2,
      "outputs": [
        {
          "output_type": "stream",
          "name": "stdout",
          "text": [
            "{'name': 'Bracamonte Martinez, Salvador', 'section': 'C', 'dob': '02/11/2005'}\n",
            "{'name': 'Scarano, Renato Marcelo', 'section': 'C', 'dob': '06/12/2006'}\n",
            "{'name': 'Portella Valdivia, Pedro Francisco', 'section': 'D', 'dob': '24/01/2007'}\n",
            "{'name': 'Giangreco, Vitto Tomasso', 'section': 'C', 'dob': '21/03/2007'}\n",
            "{'name': 'Gallo, Octavio Ismael', 'section': 'C', 'dob': '04/08/2006'}\n",
            "{'name': 'Flores, Victoria Agustina', 'section': 'D', 'dob': '12/12/2006'}\n",
            "{'name': 'Retamal Cisneros, Zacarias Josue', 'section': 'D', 'dob': '24/02/2007'}\n",
            "{'name': 'Zalazar, Santino Stefano', 'section': 'D', 'dob': '30/09/2006'}\n",
            "{'name': 'Guzman, Jazmin Esmeralda Belen', 'section': 'D', 'dob': '31/07/2006'}\n",
            "{'name': 'Rasuk, Karim', 'section': 'C', 'dob': '13/07/2007'}\n",
            "{'name': 'Figueroa, Santino Josue', 'section': 'C', 'dob': '12/05/2007'}\n",
            "{'name': 'Guanca, Sara Elizabeth', 'section': 'C', 'dob': '17/01/2007'}\n",
            "{'name': 'Vilte, Mia Antonella Alondra', 'section': 'C', 'dob': '10/09/2005'}\n",
            "{'name': 'Lacour Polo, Nazarena', 'section': 'D', 'dob': '19/12/2005'}\n",
            "{'name': 'Jaime, Anita Maria Belen', 'section': 'D', 'dob': '19/04/2007'}\n",
            "{'name': 'Anaquin, Leonardo Ezequiel', 'section': 'C', 'dob': '06/09/2005'}\n",
            "{'name': 'Amador, Luana Micaela', 'section': 'C', 'dob': '09/12/2006'}\n",
            "{'name': 'Lopez, Victoria Constanza', 'section': 'C', 'dob': '12/11/2007'}\n",
            "{'name': 'Correa Segovia, Hugo Mariano', 'section': 'D', 'dob': '04/12/2006'}\n",
            "{'name': 'Geronimo Soriano, Lizzie Amaya', 'section': 'D', 'dob': '20/01/2007'}\n",
            "{'name': 'Messina, Martina', 'section': 'C', 'dob': '13/07/2005'}\n",
            "{'name': 'Martinez, Tomas Andres', 'section': 'D', 'dob': '22/03/2007'}\n",
            "{'name': 'Bettinelli, Valentino', 'section': 'C', 'dob': '12/07/2006'}\n",
            "{'name': 'Caseres, Maria Antonia', 'section': 'D', 'dob': '01/07/2006'}\n",
            "{'name': 'Araoz Sanchez, Lautaro Nahuel', 'section': 'C', 'dob': '28/12/2005'}\n",
            "{'name': 'Alvarado, Ludmila Del Milagro', 'section': 'D', 'dob': '06/09/2006'}\n",
            "{'name': 'Barrozo Vedia, Joaquin Nicolas', 'section': 'C', 'dob': '15/04/2006'}\n",
            "{'name': 'Marinaro, Martin Ezequiel', 'section': 'C', 'dob': '03/11/2006'}\n",
            "{'name': 'Castillo, Paulina Milagros', 'section': 'D', 'dob': '01/06/2007'}\n",
            "{'name': 'D Elia, Alvaro Tadeo', 'section': 'D', 'dob': '27/08/2006'}\n",
            "{'name': 'Tapia, Martin Gabriel', 'section': 'C', 'dob': '30/05/2006'}\n",
            "{'name': 'Alurralde, Solange Stefania', 'section': 'D', 'dob': '02/04/2007'}\n",
            "{'name': 'Voltolini, Emanuel Tobias', 'section': 'D', 'dob': '17/09/2006'}\n",
            "{'name': 'Lezcano, Celia Morena', 'section': 'D', 'dob': '01/07/2005'}\n",
            "{'name': 'Sanchez Flores, Matías Agustín', 'section': 'C', 'dob': '15/02/2007'}\n",
            "{'name': 'Guzman, Angélica Morena', 'section': 'D', 'dob': '11/04/2007'}\n",
            "{'name': 'Colque Rivero, Ariana Zoe Del Valle', 'section': 'C', 'dob': '27/12/2006'}\n",
            "{'name': 'Rios, Lucia Magali', 'section': 'C', 'dob': '22/09/2006'}\n",
            "{'name': 'Angel, Camila Juliana', 'section': 'D', 'dob': '07/03/2007'}\n",
            "{'name': 'Abud Laspiur, Lourdes Mariel', 'section': 'C', 'dob': '05/12/2006'}\n",
            "{'name': 'Sierra, Lucas Mauricio', 'section': 'C', 'dob': '03/04/2005'}\n",
            "{'name': 'Virgillito, Katya Milena', 'section': 'C', 'dob': '19/06/2007'}\n",
            "{'name': 'Lascano Guanca, Marcelo Fabricio', 'section': 'D', 'dob': '17/02/2006'}\n",
            "{'name': 'Rosales, Francisco Gabriel', 'section': 'D', 'dob': '14/11/2006'}\n",
            "{'name': 'Flores Cardozo, Agustina Tiara', 'section': 'C', 'dob': '18/03/2006'}\n",
            "{'name': 'Arenas, Lucas Gabriel', 'section': 'D', 'dob': '26/06/2007'}\n",
            "{'name': 'Villalba, Irina', 'section': 'D', 'dob': '09/09/2006'}\n",
            "{'name': 'Merluzzi Dagum, Ignacio', 'section': 'C', 'dob': '22/12/2005'}\n",
            "{'name': 'Diaz, Dulce Maitena', 'section': 'C', 'dob': '11/12/2006'}\n",
            "{'name': 'Argañaraz, Agostina Abril', 'section': 'C', 'dob': '11/10/2006'}\n",
            "{'name': 'Galvan, Lourdes Yamila', 'section': 'C', 'dob': '19/08/2005'}\n",
            "{'name': 'Salem Barba, Mahia', 'section': 'D', 'dob': '14/10/2005'}\n",
            "{'name': 'Soto Camara, Agustin Ignacio', 'section': 'D', 'dob': '07/11/2005'}\n",
            "{'name': 'Mamani Garrido, Rosario Agostina', 'section': 'C', 'dob': '24/10/2006'}\n",
            "{'name': 'Barrera, Matias Ezequiel', 'section': 'C', 'dob': '27/02/2007'}\n",
            "{'name': 'Grancara, Martina Luna', 'section': 'C', 'dob': '15/12/2006'}\n"
          ]
        }
      ]
    },
    {
      "cell_type": "markdown",
      "source": [
        "2. Crea un conjunto de nombres y otro de apellidos para 5C y  para 5D.\n",
        "- Muestra los conjuntos generados\n",
        "\n",
        "> recordá que los conjuntos solo pueden almacenar datos inmutables"
      ],
      "metadata": {
        "id": "dYEGkYZyLy9I"
      }
    },
    {
      "cell_type": "code",
      "source": [
        "nombres_5C=set()\n",
        "apellidos_5C=set()\n",
        "nombres_5D=set()\n",
        "apellidos_5D=set()\n",
        "for estudiante in estudiantes:\n",
        "  nombre_completo=estudiante[\"name\"]\n",
        "  apellido,nombre= nombre_completo.split(\",\")\n",
        "  apellidos = apellido.split(\" \")\n",
        "  nombres = nombre.strip().split(\" \")\n",
        "  if estudiante[\"section\"]==\"C\":\n",
        "   for nombre in nombres:\n",
        "      nombres_5C.add(nombre)\n",
        "   for apellido in apellidos:\n",
        "      apellidos_5C.add(apellido)\n",
        "  else:\n",
        "   for nombre in nombres:\n",
        "     nombres_5D.add(nombre)\n",
        "   for apellido in apellidos:\n",
        "     apellidos_5D.add(apellido)\n",
        "print(f\"{nombres_5C=}\")\n",
        "print(f\"{apellidos_5C=}\")\n",
        "print(f\"{nombres_5D=}\")\n",
        "print(f\"{apellidos_5D=}\")"
      ],
      "metadata": {
        "id": "5hVrzFPgxs_E",
        "outputId": "06248b59-7f75-40fd-d9cc-5f7fb26b67fe",
        "colab": {
          "base_uri": "https://localhost:8080/"
        }
      },
      "execution_count": 3,
      "outputs": [
        {
          "output_type": "stream",
          "name": "stdout",
          "text": [
            "nombres_5C={'Milena', 'Del', 'Magali', 'Mariel', 'Valle', 'Elizabeth', 'Joaquin', 'Ariana', 'Martin', 'Gabriel', 'Katya', 'Salvador', 'Josue', 'Dulce', 'Mia', 'Tiara', 'Sara', 'Victoria', 'Marcelo', 'Alondra', 'Karim', 'Maitena', 'Yamila', 'Matias', 'Luana', 'Valentino', 'Luna', 'Lautaro', 'Agostina', 'Tomasso', 'Mauricio', 'Nahuel', 'Constanza', 'Agustina', 'Renato', 'Vitto', 'Abril', 'Antonella', 'Lucia', 'Matías', 'Ignacio', 'Agustín', 'Rosario', 'Micaela', 'Ismael', 'Martina', 'Zoe', 'Santino', 'Octavio', 'Lucas', 'Leonardo', 'Ezequiel', 'Lourdes', 'Nicolas'}\n",
            "apellidos_5C={'Garrido', 'Flores', 'Tapia', 'Bracamonte', 'Messina', 'Barrera', 'Vilte', 'Merluzzi', 'Lopez', 'Colque', 'Sanchez', 'Anaquin', 'Mamani', 'Bettinelli', 'Laspiur', 'Diaz', 'Grancara', 'Gallo', 'Marinaro', 'Rivero', 'Cardozo', 'Abud', 'Barrozo', 'Giangreco', 'Araoz', 'Figueroa', 'Rasuk', 'Amador', 'Martinez', 'Scarano', 'Vedia', 'Guanca', 'Sierra', 'Dagum', 'Virgillito', 'Rios', 'Galvan', 'Argañaraz'}\n",
            "nombres_5D={'Del', 'Fabricio', 'Nazarena', 'Ludmila', 'Esmeralda', 'Emanuel', 'Gabriel', 'Tomas', 'Josue', 'Stefano', 'Maria', 'Stefania', 'Hugo', 'Victoria', 'Milagros', 'Amaya', 'Marcelo', 'Celia', 'Francisco', 'Tobias', 'Belen', 'Solange', 'Mahia', 'Juliana', 'Alvaro', 'Zacarias', 'Agustina', 'Camila', 'Mariano', 'Angélica', 'Paulina', 'Milagro', 'Ignacio', 'Andres', 'Anita', 'Antonia', 'Morena', 'Agustin', 'Lizzie', 'Santino', 'Lucas', 'Tadeo', 'Irina', 'Pedro', 'Jazmin'}\n",
            "apellidos_5D={'Retamal', 'Polo', 'Caseres', 'Flores', 'Castillo', 'Valdivia', 'Cisneros', 'Zalazar', 'Soto', 'Rosales', 'Elia', 'Arenas', 'D', 'Voltolini', 'Segovia', 'Correa', 'Lezcano', 'Guzman', 'Jaime', 'Villalba', 'Portella', 'Alvarado', 'Soriano', 'Salem', 'Martinez', 'Angel', 'Barba', 'Guanca', 'Camara', 'Geronimo', 'Lascano', 'Alurralde', 'Lacour'}\n"
          ]
        }
      ]
    },
    {
      "cell_type": "markdown",
      "source": [
        "3. Muestra cuantos nombres únicos hay en cada curso."
      ],
      "metadata": {
        "id": "UW2dlBsGMAte"
      }
    },
    {
      "cell_type": "code",
      "source": [
        "l_nombres_c=[]\n",
        "for estudiante in estudiantes_sin_repetidos:\n",
        "  nombre_completo=estudiante[\"name\"]\n",
        "  apellido,nombre= nombre_completo.split(\",\")\n",
        "  nombres = nombre.split(\" \")\n",
        "  if estudiante[\"section\"]==\"C\":\n",
        "    for nombre in nombres:\n",
        "      l_nombres_c.append(nombre)\n",
        "for i in range(len(nombres)):\n",
        "  nombres[i] = nombres[i].strip()\n",
        "l_nombres_c.extend(nombres)\n",
        "diccionario_onombres={}\n",
        "for nombre in l_nombres_c:\n",
        "   if nombre in diccionario_onombres.keys():\n",
        "      diccionario_onombres[nombre]+=1\n",
        "   else:\n",
        "      diccionario_onombres[nombre]=1\n",
        "\n",
        "for nombre,ocurrencia in diccionario_onombres.items():\n",
        "   if ocurrencia==1:\n",
        "      print(f\"{nombre} es un nombre unico\")"
      ],
      "metadata": {
        "id": "EawAy4SANtkl",
        "colab": {
          "base_uri": "https://localhost:8080/"
        },
        "outputId": "3e6ae4e5-0de7-41dd-e7c6-8a4a685fe73a"
      },
      "execution_count": 4,
      "outputs": [
        {
          "output_type": "stream",
          "name": "stdout",
          "text": [
            "Salvador es un nombre unico\n",
            "Renato es un nombre unico\n",
            "Marcelo es un nombre unico\n",
            "Vitto es un nombre unico\n",
            "Tomasso es un nombre unico\n",
            "Octavio es un nombre unico\n",
            "Ismael es un nombre unico\n",
            "Karim es un nombre unico\n",
            "Santino es un nombre unico\n",
            "Josue es un nombre unico\n",
            "Sara es un nombre unico\n",
            "Elizabeth es un nombre unico\n",
            "Mia es un nombre unico\n",
            "Antonella es un nombre unico\n",
            "Alondra es un nombre unico\n",
            "Leonardo es un nombre unico\n",
            "Luana es un nombre unico\n",
            "Micaela es un nombre unico\n",
            "Victoria es un nombre unico\n",
            "Constanza es un nombre unico\n",
            "Valentino es un nombre unico\n",
            "Lautaro es un nombre unico\n",
            "Nahuel es un nombre unico\n",
            "Joaquin es un nombre unico\n",
            "Nicolas es un nombre unico\n",
            "Gabriel es un nombre unico\n",
            "Matías es un nombre unico\n",
            "Agustín es un nombre unico\n",
            "Ariana es un nombre unico\n",
            "Zoe es un nombre unico\n",
            "Del es un nombre unico\n",
            "Valle es un nombre unico\n",
            "Lucia es un nombre unico\n",
            "Magali es un nombre unico\n",
            "Mariel es un nombre unico\n",
            "Lucas es un nombre unico\n",
            "Mauricio es un nombre unico\n",
            "Katya es un nombre unico\n",
            "Milena es un nombre unico\n",
            "Agustina es un nombre unico\n",
            "Tiara es un nombre unico\n",
            "Ignacio es un nombre unico\n",
            "Dulce es un nombre unico\n",
            "Maitena es un nombre unico\n",
            "Abril es un nombre unico\n",
            "Yamila es un nombre unico\n",
            "Rosario es un nombre unico\n",
            "Matias es un nombre unico\n"
          ]
        }
      ]
    },
    {
      "cell_type": "code",
      "source": [
        "l_nombres_d=[]\n",
        "for estudiante in estudiantes_sin_repetidos:\n",
        "  nombre_completo=estudiante[\"name\"]\n",
        "  apellido,nombre= nombre_completo.split(\",\")\n",
        "  nombres = nombre.split(\" \")\n",
        "  if estudiante[\"section\"]==\"D\":\n",
        "    for nombre in nombres:\n",
        "      l_nombres_d.append(nombre)\n",
        "for i in range(len(nombres)):\n",
        "  nombres[i] = nombres[i].strip()\n",
        "l_nombres_d.extend(nombres)\n",
        "diccionario_onombres={}\n",
        "for nombre in l_nombres_d:\n",
        "   if nombre in diccionario_onombres.keys():\n",
        "      diccionario_onombres[nombre]+=1\n",
        "   else:\n",
        "      diccionario_onombres[nombre]=1\n",
        "\n",
        "for nombre,ocurrencia in diccionario_onombres.items():\n",
        "   if ocurrencia==1:\n",
        "      print(f\"{nombre} es un nombre unico\")"
      ],
      "metadata": {
        "colab": {
          "base_uri": "https://localhost:8080/"
        },
        "outputId": "18f7ae51-40ca-48e2-da14-2e51c205cfae",
        "id": "pYawQHPFfZJc"
      },
      "execution_count": 5,
      "outputs": [
        {
          "output_type": "stream",
          "name": "stdout",
          "text": [
            "Pedro es un nombre unico\n",
            "Victoria es un nombre unico\n",
            "Agustina es un nombre unico\n",
            "Zacarias es un nombre unico\n",
            "Josue es un nombre unico\n",
            "Santino es un nombre unico\n",
            "Stefano es un nombre unico\n",
            "Jazmin es un nombre unico\n",
            "Esmeralda es un nombre unico\n",
            "Nazarena es un nombre unico\n",
            "Anita es un nombre unico\n",
            "Hugo es un nombre unico\n",
            "Mariano es un nombre unico\n",
            "Lizzie es un nombre unico\n",
            "Amaya es un nombre unico\n",
            "Tomas es un nombre unico\n",
            "Andres es un nombre unico\n",
            "Antonia es un nombre unico\n",
            "Ludmila es un nombre unico\n",
            "Del es un nombre unico\n",
            "Milagro es un nombre unico\n",
            "Paulina es un nombre unico\n",
            "Milagros es un nombre unico\n",
            "Alvaro es un nombre unico\n",
            "Tadeo es un nombre unico\n",
            "Solange es un nombre unico\n",
            "Stefania es un nombre unico\n",
            "Emanuel es un nombre unico\n",
            "Tobias es un nombre unico\n",
            "Celia es un nombre unico\n",
            "Angélica es un nombre unico\n",
            "Camila es un nombre unico\n",
            "Juliana es un nombre unico\n",
            "Marcelo es un nombre unico\n",
            "Fabricio es un nombre unico\n",
            "Lucas es un nombre unico\n",
            "Irina es un nombre unico\n",
            "Mahia es un nombre unico\n",
            "Agustin es un nombre unico\n",
            "Ignacio es un nombre unico\n",
            "Martina es un nombre unico\n",
            "Luna es un nombre unico\n"
          ]
        }
      ]
    },
    {
      "cell_type": "markdown",
      "source": [
        "4. Muestra cuantos apellidos únicos hay en cada curso."
      ],
      "metadata": {
        "id": "kZeEHUYVNwGV"
      }
    },
    {
      "cell_type": "code",
      "source": [
        "l_apellidos_c=[]\n",
        "for estudiante in estudiantes_sin_repetidos:\n",
        "  if estudiante[\"section\"]==\"C\":\n",
        "    nombre_completo=estudiante[\"name\"]\n",
        "    apellido,nombre= nombre_completo.split(\",\")\n",
        "    apellidos = apellido.split(\" \")\n",
        "    l_apellidos_c.extend(apellidos)\n",
        "for i in range(len(apellidos)):\n",
        "  apellidos[i] = apellidos[i].strip()\n",
        "l_apellidos_c.extend(apellidos)\n",
        "diccionario_oapellidos={}\n",
        "for apellido in l_apellidos_c:\n",
        "   if apellido in diccionario_oapellidos.keys():\n",
        "      diccionario_oapellidos[apellido]+=1\n",
        "   else:\n",
        "      diccionario_oapellidos[apellido]=1\n",
        "\n",
        "for apellido,ocurrencia in diccionario_oapellidos.items():\n",
        "   if ocurrencia==1:\n",
        "      print(f\"{apellido} es un apellido unico de 5C\")\n",
        "\n",
        "\n"
      ],
      "metadata": {
        "id": "q05GnxXgORzt",
        "outputId": "8054ac53-4d2c-4083-91ce-9a6999d5eb02",
        "colab": {
          "base_uri": "https://localhost:8080/"
        }
      },
      "execution_count": 8,
      "outputs": [
        {
          "output_type": "stream",
          "name": "stdout",
          "text": [
            "Bracamonte es un apellido unico de 5C\n",
            "Martinez es un apellido unico de 5C\n",
            "Scarano es un apellido unico de 5C\n",
            "Giangreco es un apellido unico de 5C\n",
            "Gallo es un apellido unico de 5C\n",
            "Rasuk es un apellido unico de 5C\n",
            "Figueroa es un apellido unico de 5C\n",
            "Guanca es un apellido unico de 5C\n",
            "Vilte es un apellido unico de 5C\n",
            "Anaquin es un apellido unico de 5C\n",
            "Amador es un apellido unico de 5C\n",
            "Lopez es un apellido unico de 5C\n",
            "Messina es un apellido unico de 5C\n",
            "Bettinelli es un apellido unico de 5C\n",
            "Araoz es un apellido unico de 5C\n",
            "Barrozo es un apellido unico de 5C\n",
            "Vedia es un apellido unico de 5C\n",
            "Marinaro es un apellido unico de 5C\n",
            "Tapia es un apellido unico de 5C\n",
            "Colque es un apellido unico de 5C\n",
            "Rivero es un apellido unico de 5C\n",
            "Rios es un apellido unico de 5C\n",
            "Abud es un apellido unico de 5C\n",
            "Laspiur es un apellido unico de 5C\n",
            "Sierra es un apellido unico de 5C\n",
            "Virgillito es un apellido unico de 5C\n",
            "Cardozo es un apellido unico de 5C\n",
            "Merluzzi es un apellido unico de 5C\n",
            "Dagum es un apellido unico de 5C\n",
            "Diaz es un apellido unico de 5C\n",
            "Argañaraz es un apellido unico de 5C\n",
            "Galvan es un apellido unico de 5C\n",
            "Mamani es un apellido unico de 5C\n",
            "Garrido es un apellido unico de 5C\n",
            "Barrera es un apellido unico de 5C\n"
          ]
        }
      ]
    },
    {
      "cell_type": "code",
      "source": [
        "l_apellidos_d=[]\n",
        "for estudiante in estudiantes_sin_repetidos:\n",
        "  if estudiante[\"section\"]==\"D\":\n",
        "    nombre_completo=estudiante[\"name\"]\n",
        "    apellido,nombre= nombre_completo.split(\",\")\n",
        "    apellidos = apellido.split(\" \")\n",
        "    l_apellidos_d.extend(apellidos)\n",
        "for i in range(len(apellidos)):\n",
        "  apellidos[i] = apellidos[i].strip()\n",
        "l_apellidos_d.extend(apellidos)\n",
        "diccionario_oapellidos={}\n",
        "for apellido in l_apellidos_d:\n",
        "   if apellido in diccionario_oapellidos.keys():\n",
        "      diccionario_oapellidos[apellido]+=1\n",
        "   else:\n",
        "      diccionario_oapellidos[apellido]=1\n",
        "\n",
        "for apellido,ocurrencia in diccionario_oapellidos.items():\n",
        "   if ocurrencia==1:\n",
        "      print(f\"{apellido} es un apellido unico de 5D\")"
      ],
      "metadata": {
        "id": "Cck_OsxjlQ_r",
        "outputId": "193eec85-1259-4507-b823-40cb21c295fa",
        "colab": {
          "base_uri": "https://localhost:8080/"
        }
      },
      "execution_count": 9,
      "outputs": [
        {
          "output_type": "stream",
          "name": "stdout",
          "text": [
            "Portella es un apellido unico de 5D\n",
            "Valdivia es un apellido unico de 5D\n",
            "Flores es un apellido unico de 5D\n",
            "Retamal es un apellido unico de 5D\n",
            "Cisneros es un apellido unico de 5D\n",
            "Zalazar es un apellido unico de 5D\n",
            "Lacour es un apellido unico de 5D\n",
            "Polo es un apellido unico de 5D\n",
            "Jaime es un apellido unico de 5D\n",
            "Correa es un apellido unico de 5D\n",
            "Segovia es un apellido unico de 5D\n",
            "Geronimo es un apellido unico de 5D\n",
            "Soriano es un apellido unico de 5D\n",
            "Martinez es un apellido unico de 5D\n",
            "Caseres es un apellido unico de 5D\n",
            "Alvarado es un apellido unico de 5D\n",
            "Castillo es un apellido unico de 5D\n",
            "D es un apellido unico de 5D\n",
            "Elia es un apellido unico de 5D\n",
            "Alurralde es un apellido unico de 5D\n",
            "Voltolini es un apellido unico de 5D\n",
            "Lezcano es un apellido unico de 5D\n",
            "Angel es un apellido unico de 5D\n",
            "Lascano es un apellido unico de 5D\n",
            "Guanca es un apellido unico de 5D\n",
            "Rosales es un apellido unico de 5D\n",
            "Arenas es un apellido unico de 5D\n",
            "Villalba es un apellido unico de 5D\n",
            "Salem es un apellido unico de 5D\n",
            "Barba es un apellido unico de 5D\n"
          ]
        }
      ]
    },
    {
      "cell_type": "markdown",
      "source": [
        "5. Mostrá los nombres que aparecen en ambos cursos"
      ],
      "metadata": {
        "id": "ywYmA2JQNp3T"
      }
    },
    {
      "cell_type": "code",
      "source": [
        "print(f\" Los nombres que aparecen en ambos cursos son \\n{nombres_5C.intersection(nombres_5D)}\")"
      ],
      "metadata": {
        "id": "Cnp334ZrOCjK",
        "outputId": "f0f4fe15-e6dd-461b-cd73-f5373cedff01",
        "colab": {
          "base_uri": "https://localhost:8080/"
        }
      },
      "execution_count": null,
      "outputs": [
        {
          "output_type": "stream",
          "name": "stdout",
          "text": [
            " Los nombres que aparecen en ambos cursos son \n",
            "{'Josue', 'Santino', 'Victoria', 'Ignacio', 'Marcelo', 'Agustina', 'Gabriel', 'Del', 'Lucas'}\n"
          ]
        }
      ]
    },
    {
      "cell_type": "markdown",
      "source": [
        "6. Mostrá los apellidos que se aparecen en ambos cursos"
      ],
      "metadata": {
        "id": "iAXts6saODoU"
      }
    },
    {
      "cell_type": "code",
      "source": [
        "print(f\" Los apellidos que aparecen en ambos cursos son \\n{apellidos_5C.intersection(apellidos_5D)}\")"
      ],
      "metadata": {
        "id": "FMRsUlvtOJS_",
        "outputId": "e77fa376-9909-4189-cf49-8956d4f650a3",
        "colab": {
          "base_uri": "https://localhost:8080/"
        }
      },
      "execution_count": 35,
      "outputs": [
        {
          "output_type": "stream",
          "name": "stdout",
          "text": [
            " Los apellidos que aparecen en ambos cursos son \n",
            "{'Martinez', 'Guanca', 'Flores'}\n"
          ]
        }
      ]
    },
    {
      "cell_type": "markdown",
      "source": [
        "7. Mostrá los nombres de los estudiantes de 5C que no existen en 5D y viceversa."
      ],
      "metadata": {
        "id": "T4PFiwwdOK27"
      }
    },
    {
      "cell_type": "code",
      "source": [
        "print(f\"Los nombres de 5C que no existen en 5D son los siguientes: \\n{nombres_5C.difference(nombres_5D)}\")\n",
        "print(f\"Los nombres de 5D que no existen en 5C son los siguientes: \\n{nombres_5D.difference(nombres_5C)}\")"
      ],
      "metadata": {
        "id": "vjQ2X9x3OmFr",
        "outputId": "34fd700f-506f-4667-c321-0192e0cb2387",
        "colab": {
          "base_uri": "https://localhost:8080/"
        }
      },
      "execution_count": null,
      "outputs": [
        {
          "output_type": "stream",
          "name": "stdout",
          "text": [
            "Los nombres de 5C que no existen en 5D son los siguientes: \n",
            "{'Karim', 'Milena', 'Zoe', 'Nahuel', 'Valentino', 'Alondra', 'Lautaro', 'Valle', 'Matías', 'Ezequiel', 'Yamila', 'Mia', 'Magali', 'Renato', 'Lourdes', 'Micaela', 'Ariana', 'Antonella', 'Luana', 'Ismael', 'Martin', 'Nicolas', 'Agustín', 'Joaquin', 'Mauricio', 'Luna', 'Lucia', 'Katya', 'Matias', 'Sara', 'Mariel', 'Leonardo', 'Rosario', 'Octavio', 'Vitto', 'Tiara', 'Tomasso', 'Maitena', 'Abril', 'Martina', 'Salvador', 'Constanza', 'Agostina', 'Dulce', 'Elizabeth'}\n",
            "Los nombres de 5D que no existen en 5C son los siguientes: \n",
            "{'Mahia', 'Belen', 'Zacarias', 'Mariano', 'Antonia', 'Alvaro', 'Amaya', 'Irina', 'Paulina', 'Tadeo', 'Celia', 'Ludmila', 'Milagros', 'Stefania', 'Hugo', 'Solange', 'Maria', 'Francisco', 'Andres', 'Emanuel', 'Pedro', 'Angélica', 'Tobias', 'Anita', 'Esmeralda', 'Morena', 'Milagro', 'Stefano', 'Fabricio', 'Juliana', 'Lizzie', 'Jazmin', 'Camila', 'Agustin', 'Nazarena', 'Tomas'}\n"
          ]
        }
      ]
    },
    {
      "cell_type": "markdown",
      "source": [
        "8. Mostrá los apellidos de los estudiantes de 5C que no existen en 5D y viceversa.\n"
      ],
      "metadata": {
        "id": "xfy8SFlZRVGf"
      }
    },
    {
      "cell_type": "code",
      "source": [
        "print(f\"Los apellidos de 5C que no existen en 5D son los siguientes: \\n{apellidos_5C.difference(apellidos_5D)}\")\n",
        "print(f\"Los apellidos de 5D que no existen en 5C son los siguientes: \\n{apellidos_5D.difference(apellidos_5C)}\")"
      ],
      "metadata": {
        "id": "E4Onk1FNRUa2",
        "outputId": "993809c8-a8c3-49c0-9076-94d01f1f4de4",
        "colab": {
          "base_uri": "https://localhost:8080/"
        }
      },
      "execution_count": null,
      "outputs": [
        {
          "output_type": "stream",
          "name": "stdout",
          "text": [
            "Los apellidos de 5C que no existen en 5D son los siguientes: \n",
            "{'Sierra', 'Cardozo', 'Laspiur', 'Amador', 'Galvan', 'Bettinelli', 'Mamani', 'Giangreco', 'Dagum', 'Sanchez', 'Vilte', 'Marinaro', 'Messina', 'Rasuk', 'Garrido', 'Scarano', 'Barrozo', 'Tapia', 'Bracamonte', 'Virgillito', 'Colque', 'Gallo', 'Abud', 'Vedia', 'Merluzzi', 'Anaquin', 'Argañaraz', 'Rivero', 'Diaz', 'Araoz', 'Figueroa', 'Grancara', 'Lopez', 'Rios', 'Barrera'}\n",
            "Los apellidos de 5D que no existen en 5C son los siguientes: \n",
            "{'Barba', 'Alvarado', 'Retamal', 'Caseres', 'Salem', 'Villalba', 'Camara', 'Zalazar', 'Castillo', 'Polo', 'Soriano', 'D', 'Jaime', 'Portella', 'Soto', 'Lascano', 'Valdivia', 'Geronimo', 'Lezcano', 'Guzman', 'Rosales', 'Angel', 'Lacour', 'Correa', 'Elia', 'Cisneros', 'Voltolini', 'Arenas', 'Segovia', 'Alurralde'}\n"
          ]
        }
      ]
    },
    {
      "cell_type": "markdown",
      "source": [
        "9. Mostrá todos los nombres, menos aquellos que existen en ambos cursos.\n"
      ],
      "metadata": {
        "id": "lW18NgPjRcGP"
      }
    },
    {
      "cell_type": "code",
      "source": [
        "print(f\"Todos los nombres menos aquellos que existen en ambos cursos: \\n{nombres_5C.symmetric_difference(nombres_5D)}\")"
      ],
      "metadata": {
        "id": "jTtWBnalRcoC",
        "outputId": "9ebf4aa9-543f-49c0-a067-5879680a6821",
        "colab": {
          "base_uri": "https://localhost:8080/"
        }
      },
      "execution_count": 37,
      "outputs": [
        {
          "output_type": "stream",
          "name": "stdout",
          "text": [
            "Todos los nombres menos aquellos que existen en ambos cursos: \n",
            "{'Fabricio', 'Tomas', 'Salvador', 'Milagros', 'Hugo', 'Amaya', 'Karim', 'Francisco', 'Maitena', 'Luana', 'Belen', 'Solange', 'Lautaro', 'Agostina', 'Alvaro', 'Nahuel', 'Constanza', 'Renato', 'Vitto', 'Abril', 'Antonia', 'Morena', 'Martina', 'Tadeo', 'Pedro', 'Valle', 'Esmeralda', 'Katya', 'Dulce', 'Stefania', 'Matias', 'Valentino', 'Tomasso', 'Juliana', 'Milagro', 'Matías', 'Andres', 'Rosario', 'Agustin', 'Leonardo', 'Nicolas', 'Magali', 'Nazarena', 'Joaquin', 'Ariana', 'Alondra', 'Celia', 'Yamila', 'Zacarias', 'Mariano', 'Paulina', 'Antonella', 'Lucia', 'Micaela', 'Ismael', 'Lizzie', 'Octavio', 'Tiara', 'Milena', 'Mariel', 'Ludmila', 'Emanuel', 'Elizabeth', 'Martin', 'Stefano', 'Maria', 'Mia', 'Sara', 'Tobias', 'Luna', 'Mahia', 'Mauricio', 'Camila', 'Angélica', 'Anita', 'Agustín', 'Zoe', 'Ezequiel', 'Irina', 'Jazmin', 'Lourdes'}\n"
          ]
        }
      ]
    },
    {
      "cell_type": "markdown",
      "source": [
        "10. elimina tu nombre del conjunto al que pertenece"
      ],
      "metadata": {
        "id": "E24lH7x5Xbur"
      }
    },
    {
      "cell_type": "code",
      "source": [
        "nombree=input(\"Ingrese su nombre: \")\n",
        "for estudiante in estudiantes_sin_repetidos:\n",
        "  if nombree in estudiante['name']:\n",
        "    estudiantes_sin_repetidos.remove(estudiante)\n",
        "for estudiante in estudiantes_sin_repetidos:\n",
        "  print(estudiante)"
      ],
      "metadata": {
        "id": "9SeI3GBGXims",
        "outputId": "935df469-0e0a-400d-a456-06475f6b3bf4",
        "colab": {
          "base_uri": "https://localhost:8080/"
        }
      },
      "execution_count": null,
      "outputs": [
        {
          "output_type": "stream",
          "name": "stdout",
          "text": [
            "Ingrese su nombre: Lucia\n",
            "{'name': 'Retamal Cisneros, Zacarias Josue', 'section': 'D', 'dob': '24/02/2007'}\n",
            "{'name': 'Marinaro, Martin Ezequiel', 'section': 'C', 'dob': '03/11/2006'}\n",
            "{'name': 'Lacour Polo, Nazarena', 'section': 'D', 'dob': '19/12/2005'}\n",
            "{'name': 'Grancara, Martina Luna', 'section': 'C', 'dob': '15/12/2006'}\n",
            "{'name': 'Lascano Guanca, Marcelo Fabricio', 'section': 'D', 'dob': '17/02/2006'}\n",
            "{'name': 'Flores Cardozo, Agustina Tiara', 'section': 'C', 'dob': '18/03/2006'}\n",
            "{'name': 'Mamani Garrido, Rosario Agostina', 'section': 'C', 'dob': '24/10/2006'}\n",
            "{'name': 'Arenas, Lucas Gabriel', 'section': 'D', 'dob': '26/06/2007'}\n",
            "{'name': 'Lezcano, Celia Morena', 'section': 'D', 'dob': '01/07/2005'}\n",
            "{'name': 'D Elia, Alvaro Tadeo', 'section': 'D', 'dob': '27/08/2006'}\n",
            "{'name': 'Soto Camara, Agustin Ignacio', 'section': 'D', 'dob': '07/11/2005'}\n",
            "{'name': 'Diaz, Dulce Maitena', 'section': 'C', 'dob': '11/12/2006'}\n",
            "{'name': 'Merluzzi Dagum, Ignacio', 'section': 'C', 'dob': '22/12/2005'}\n",
            "{'name': 'Rosales, Francisco Gabriel', 'section': 'D', 'dob': '14/11/2006'}\n",
            "{'name': 'Voltolini, Emanuel Tobias', 'section': 'D', 'dob': '17/09/2006'}\n",
            "{'name': 'Angel, Camila Juliana', 'section': 'D', 'dob': '07/03/2007'}\n",
            "{'name': 'Barrozo Vedia, Joaquin Nicolas', 'section': 'C', 'dob': '15/04/2006'}\n",
            "{'name': 'Zalazar, Santino Stefano', 'section': 'D', 'dob': '30/09/2006'}\n",
            "{'name': 'Anaquin, Leonardo Ezequiel', 'section': 'C', 'dob': '06/09/2005'}\n",
            "{'name': 'Flores, Victoria Agustina', 'section': 'D', 'dob': '12/12/2006'}\n",
            "{'name': 'Gallo, Octavio Ismael', 'section': 'C', 'dob': '04/08/2006'}\n",
            "{'name': 'Lopez, Victoria Constanza', 'section': 'C', 'dob': '12/11/2007'}\n",
            "{'name': 'Sierra, Lucas Mauricio', 'section': 'C', 'dob': '03/04/2005'}\n",
            "{'name': 'Villalba, Irina', 'section': 'D', 'dob': '09/09/2006'}\n",
            "{'name': 'Caseres, Maria Antonia', 'section': 'D', 'dob': '01/07/2006'}\n",
            "{'name': 'Sanchez Flores, Matías Agustín', 'section': 'C', 'dob': '15/02/2007'}\n",
            "{'name': 'Barrera, Matias Ezequiel', 'section': 'C', 'dob': '27/02/2007'}\n",
            "{'name': 'Argañaraz, Agostina Abril', 'section': 'C', 'dob': '11/10/2006'}\n",
            "{'name': 'Galvan, Lourdes Yamila', 'section': 'C', 'dob': '19/08/2005'}\n",
            "{'name': 'Amador, Luana Micaela', 'section': 'C', 'dob': '09/12/2006'}\n",
            "{'name': 'Araoz Sanchez, Lautaro Nahuel', 'section': 'C', 'dob': '28/12/2005'}\n",
            "{'name': 'Virgillito, Katya Milena', 'section': 'C', 'dob': '19/06/2007'}\n",
            "{'name': 'Guzman, Angélica Morena', 'section': 'D', 'dob': '11/04/2007'}\n",
            "{'name': 'Correa Segovia, Hugo Mariano', 'section': 'D', 'dob': '04/12/2006'}\n",
            "{'name': 'Salem Barba, Mahia', 'section': 'D', 'dob': '14/10/2005'}\n",
            "{'name': 'Bracamonte Martinez, Salvador', 'section': 'C', 'dob': '02/11/2005'}\n",
            "{'name': 'Abud Laspiur, Lourdes Mariel', 'section': 'C', 'dob': '05/12/2006'}\n",
            "{'name': 'Geronimo Soriano, Lizzie Amaya', 'section': 'D', 'dob': '20/01/2007'}\n",
            "{'name': 'Bettinelli, Valentino', 'section': 'C', 'dob': '12/07/2006'}\n",
            "{'name': 'Colque Rivero, Ariana Zoe Del Valle', 'section': 'C', 'dob': '27/12/2006'}\n",
            "{'name': 'Alvarado, Ludmila Del Milagro', 'section': 'D', 'dob': '06/09/2006'}\n",
            "{'name': 'Jaime, Anita Maria Belen', 'section': 'D', 'dob': '19/04/2007'}\n",
            "{'name': 'Messina, Martina', 'section': 'C', 'dob': '13/07/2005'}\n",
            "{'name': 'Tapia, Martin Gabriel', 'section': 'C', 'dob': '30/05/2006'}\n",
            "{'name': 'Vilte, Mia Antonella Alondra', 'section': 'C', 'dob': '10/09/2005'}\n",
            "{'name': 'Castillo, Paulina Milagros', 'section': 'D', 'dob': '01/06/2007'}\n",
            "{'name': 'Martinez, Tomas Andres', 'section': 'D', 'dob': '22/03/2007'}\n",
            "{'name': 'Giangreco, Vitto Tomasso', 'section': 'C', 'dob': '21/03/2007'}\n",
            "{'name': 'Rasuk, Karim', 'section': 'C', 'dob': '13/07/2007'}\n",
            "{'name': 'Guzman, Jazmin Esmeralda Belen', 'section': 'D', 'dob': '31/07/2006'}\n",
            "{'name': 'Guanca, Sara Elizabeth', 'section': 'C', 'dob': '17/01/2007'}\n",
            "{'name': 'Alurralde, Solange Stefania', 'section': 'D', 'dob': '02/04/2007'}\n",
            "{'name': 'Figueroa, Santino Josue', 'section': 'C', 'dob': '12/05/2007'}\n",
            "{'name': 'Scarano, Renato Marcelo', 'section': 'C', 'dob': '06/12/2006'}\n",
            "{'name': 'Portella Valdivia, Pedro Francisco', 'section': 'D', 'dob': '24/01/2007'}\n"
          ]
        }
      ]
    },
    {
      "cell_type": "code",
      "source": [
        "estudiantes_5C=set()\n",
        "estudiantes_5D=set()\n",
        "for estudiante in estudiantes_sin_repetidos:\n",
        "  nomb_c=estudiante[\"name\"]\n",
        "  if estudiante['section']==\"C\":\n",
        "    estudiantes_5C.add(nomb_c)\n",
        "  else:\n",
        "    estudiantes_5D.add(nomb_c)\n",
        "\n",
        "nombr=input(\"Ingrese el nombre ha eliminar: \").title()\n",
        "nombr=nombr+\" \"\n",
        "curso=input(\"Ingrese a que curso pertenece: \").lower()\n",
        "if curso == \"c\":\n",
        "  for estudiante in estudiantes_5C:\n",
        "      if nombr in estudiante:\n",
        "        estudiantes_5C.discard(estudiante)\n",
        "        print(f\"Ha eliminado a {estudiante}\")\n",
        "        break\n",
        "  for estudiante in estudiantes_5C:\n",
        "    print(estudiante)\n",
        "elif curso == \"d\":\n",
        "   for estudiante in estudiantes_5D:\n",
        "      if nombr in estudiante:\n",
        "        estudiantes_5D.discard(estudiante)\n",
        "        print(f\"Ha eliminado a {estudiante}\")\n",
        "        break\n",
        "   for estudiante in estudiantes_5D:\n",
        "     print(estudiante)\n",
        "else:\n",
        "  print(\"Opción invalida\")\n",
        "  nombr=input(\"Ingrese el nombre ha eliminar: \").title()\n",
        "  curso=input(\"Ingrese a que curso pertenece: \").lower()"
      ],
      "metadata": {
        "id": "hRBa7deJaM29",
        "outputId": "b8d40219-6c06-43eb-f293-24405b8a6dd2",
        "colab": {
          "base_uri": "https://localhost:8080/"
        }
      },
      "execution_count": 33,
      "outputs": [
        {
          "output_type": "stream",
          "name": "stdout",
          "text": [
            "Ingrese el nombre ha eliminar: Lucia\n",
            "Ingrese a que curso pertenece: c\n",
            "Ha eliminado a Rios, Lucia Magali\n",
            "Argañaraz, Agostina Abril\n",
            "Diaz, Dulce Maitena\n",
            "Marinaro, Martin Ezequiel\n",
            "Araoz Sanchez, Lautaro Nahuel\n",
            "Galvan, Lourdes Yamila\n",
            "Messina, Martina\n",
            "Sierra, Lucas Mauricio\n",
            "Colque Rivero, Ariana Zoe Del Valle\n",
            "Amador, Luana Micaela\n",
            "Bettinelli, Valentino\n",
            "Virgillito, Katya Milena\n",
            "Flores Cardozo, Agustina Tiara\n",
            "Barrozo Vedia, Joaquin Nicolas\n",
            "Merluzzi Dagum, Ignacio\n",
            "Sanchez Flores, Matías Agustín\n",
            "Bracamonte Martinez, Salvador\n",
            "Gallo, Octavio Ismael\n",
            "Abud Laspiur, Lourdes Mariel\n",
            "Rasuk, Karim\n",
            "Vilte, Mia Antonella Alondra\n",
            "Lopez, Victoria Constanza\n",
            "Grancara, Martina Luna\n",
            "Scarano, Renato Marcelo\n",
            "Tapia, Martin Gabriel\n",
            "Figueroa, Santino Josue\n",
            "Barrera, Matias Ezequiel\n",
            "Giangreco, Vitto Tomasso\n",
            "Anaquin, Leonardo Ezequiel\n",
            "Guanca, Sara Elizabeth\n",
            "Mamani Garrido, Rosario Agostina\n"
          ]
        }
      ]
    },
    {
      "cell_type": "markdown",
      "source": [
        "11. Solicita al usuario un nombre y un apellido y agregalos a los correspondientes conjuntos de tu curso.\n",
        "\n",
        "\n",
        "\n"
      ],
      "metadata": {
        "id": "vOY6K_ydRc3Q"
      }
    },
    {
      "cell_type": "code",
      "source": [
        "nom=input(\"Ingrese su nombre: \")\n",
        "ape=input(\"Ingrese su apellido: \")\n",
        "curso=input(\"Ingrese a que curso pertenece: \").lower()\n",
        "nombre_compelto=ape+\", \"+nom\n",
        "if curso == \"c\":\n",
        "  estudiantes_5C.add(nombre_compelto.title())\n",
        "  for estudiante in estudiantes_5C:\n",
        "    print(estudiante)\n",
        "elif curso == \"d\":\n",
        "  estudiantes_5D.add(nombre_compelto.title())\n",
        "  for estudiante in estudiantes_5D:\n",
        "    print(estudiante)\n",
        "else:\n",
        "  print(\"Opción invalida\")\n",
        "  curso=input(\"Ingrese a que curso pertenece: \").lower()"
      ],
      "metadata": {
        "id": "9JDrd3WqRdTi",
        "outputId": "e7469e40-d525-444e-d3d2-2925e90a7d61",
        "colab": {
          "base_uri": "https://localhost:8080/"
        }
      },
      "execution_count": 20,
      "outputs": [
        {
          "output_type": "stream",
          "name": "stdout",
          "text": [
            "Ingrese su nombre: mariano bautista\n",
            "Ingrese su apellido: cuevas\n",
            "Ingrese a que curso pertenece: d\n",
            "Jaime, Anita Maria Belen\n",
            "Alurralde, Solange Stefania\n",
            "Zalazar, Santino Stefano\n",
            "Flores, Victoria Agustina\n",
            "D Elia, Alvaro Tadeo\n",
            "Portella Valdivia, Pedro Francisco\n",
            "Villalba, Irina\n",
            "Voltolini, Emanuel Tobias\n",
            "Lascano Guanca, Marcelo Fabricio\n",
            "Lacour Polo, Nazarena\n",
            "Retamal Cisneros, Zacarias Josue\n",
            "Arenas, Lucas Gabriel\n",
            "Correa Segovia, Hugo Mariano\n",
            "Martinez, Tomas Andres\n",
            "Angel, Camila Juliana\n",
            "Cuevas, Mariano Bautista\n",
            "Castillo, Paulina Milagros\n",
            "Salem Barba, Mahia\n",
            "Grancara, Martina Luna\n",
            "Guzman, Jazmin Esmeralda Belen\n",
            "Rosales, Francisco Gabriel\n",
            "Soto Camara, Agustin Ignacio\n",
            "Caseres, Maria Antonia\n",
            "Alvarado, Ludmila Del Milagro\n",
            "Guzman, Angélica Morena\n",
            "Geronimo Soriano, Lizzie Amaya\n",
            "Lezcano, Celia Morena\n"
          ]
        }
      ]
    },
    {
      "cell_type": "markdown",
      "source": [
        "12. Solicita un nombre y verifica si este existe en el diccionario"
      ],
      "metadata": {
        "id": "hs1vGDrX2wHq"
      }
    },
    {
      "cell_type": "code",
      "source": [
        "nomb=input(\"Ingrese el nombre del estudiante que desea buscar: \").title()\n",
        "nomb=nomb+\" \"\n",
        "existe=False\n",
        "for estudiante in estudiantes_sin_repetidos:\n",
        "  if nomb in estudiante[\"name\"]:\n",
        "    print(f\"El estudiante {nomb} si existe\")\n",
        "    print(estudiante)\n",
        "    existe=True\n",
        "\n",
        "if existe==False:\n",
        "    print(f\"El estudiante {nomb} no existe\")\n"
      ],
      "metadata": {
        "id": "4bbRCYWt2vDO",
        "colab": {
          "base_uri": "https://localhost:8080/"
        },
        "outputId": "1730b3c5-835c-4f10-e681-9fbeac4500b3"
      },
      "execution_count": 31,
      "outputs": [
        {
          "output_type": "stream",
          "name": "stdout",
          "text": [
            "Ingrese el nombre del estudiante que desea buscar: Pedro\n",
            "El estudiante Pedro  si existe\n",
            "{'name': 'Portella Valdivia, Pedro Francisco', 'section': 'D', 'dob': '24/01/2007'}\n"
          ]
        }
      ]
    }
  ]
}