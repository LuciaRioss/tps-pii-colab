{
  "nbformat": 4,
  "nbformat_minor": 0,
  "metadata": {
    "colab": {
      "provenance": [],
      "include_colab_link": true
    },
    "kernelspec": {
      "name": "python3",
      "display_name": "Python 3"
    },
    "language_info": {
      "name": "python"
    }
  },
  "cells": [
    {
      "cell_type": "markdown",
      "metadata": {
        "id": "view-in-github",
        "colab_type": "text"
      },
      "source": [
        "<a href=\"https://colab.research.google.com/github/LuciaRioss/tps-pii-colab-copia/blob/main/Lista_string_tupla_Pr%C3%A1ctica.ipynb\" target=\"_parent\"><img src=\"https://colab.research.google.com/assets/colab-badge.svg\" alt=\"Open In Colab\"/></a>"
      ]
    },
    {
      "cell_type": "code",
      "execution_count": 1,
      "metadata": {
        "id": "8VOD-zpMJovw"
      },
      "outputs": [],
      "source": [
        "# Lista de alumnos\n",
        "alumnos = [\n",
        "    \"Alurralde, Solange Stefania\",\n",
        "    \"Alvarado, Ludmila Del Milagro\",\n",
        "    \"Angel, Camila Juliana\",\n",
        "    \"Arenas, Lucas Gabriel\",\n",
        "    \"Caseres, Maria Antonia\",\n",
        "    \"Castillo, Paulina Milagros\",\n",
        "    \"Correa Segovia, Hugo Mariano\",\n",
        "    \"D Elia, Alvaro Tadeo\",\n",
        "    \"Flores, Victoria Agustina\",\n",
        "    \"Geronimo Soriano, Lizzie Amaya\",\n",
        "    \"GUZMAN, ANGÉLICA MORENA\",\n",
        "    \"Guzman, Jazmin Esmeralda Belen\",\n",
        "    \"Jaime, Anita Maria Belen\",\n",
        "    \"Lacour Polo, Nazarena\",\n",
        "    \"Lascano Guanca, Marcelo Fabricio\",\n",
        "    \"Lezcano, Celia Morena\",\n",
        "    \"Mamani Kynast, Nicolas Mauricio\",\n",
        "    \"Martinez, Tomas Andres\",\n",
        "    \"PORTELLA VALDIVIA, PEDRO FRANCISCO\",\n",
        "    \"Retamal Cisneros, Zacarias Josue\",\n",
        "    \"Rosales, Francisco Gabriel\",\n",
        "    \"Salem Barba, Mahia\",\n",
        "    \"Soto Camara, Agustin Ignacio\",\n",
        "    \"Villalba, Irina\",\n",
        "    \"Voltolini, Emanuel Tobias\",\n",
        "    \"Zalazar, Santino Stefano\",\n",
        "    \"ABUD LASPIUR, LOURDES MARIEL\",\n",
        "    \"Amador, Luana Micaela\",\n",
        "    \"Anaquin, Leonardo Ezequiel\",\n",
        "    \"Araoz Sanchez, Lautaro Nahuel\",\n",
        "    \"Argañaraz, Agostina Abril\",\n",
        "    \"Barrera, Matias Ezequiel\",\n",
        "    \"Barrozo Vedia, Joaquin Nicolas\",\n",
        "    \"Bettinelli, Valentino\",\n",
        "    \"Bracamonte Martinez, Salvador\",\n",
        "    \"Colque Rivero, Ariana Zoe Del Valle\",\n",
        "    \"Diaz, Dulce Maitena\",\n",
        "    \"FIGUEROA, SANTINO JOSUE\",\n",
        "    \"Flores Cardozo, Agustina Tiara\",\n",
        "    \"Gallo, Octavio Ismael\",\n",
        "    \"Galvan, Lourdes Yamila\",\n",
        "    \"Giangreco, Vitto Tomasso\",\n",
        "    \"Grancara, Martina Luna\",\n",
        "    \"Guanca, Sara Elizabeth\",\n",
        "    \"Lopez, Victoria Constanza\",\n",
        "    \"Mamani Garrido, Rosario Agostina\",\n",
        "    \"Marinaro, Martin Ezequiel\",\n",
        "    \"Merluzzi Dagum, Ignacio\",\n",
        "    \"Messina, Martina\",\n",
        "    \"RASUK, KARIM\", \"Rios, Lucia Magali\",\n",
        "    \"Sanchez Flores, Matías Agustín\",\n",
        "    \"Scarano, Renato Marcelo\",\n",
        "    \"Sierra, Lucas Mauricio\",\n",
        "    \"Tapia, Martin Gabriel\",\n",
        "    \"Vilte, Mia Antonella Alondra\",\n",
        "    \"Virgillito, Katya Milena\"\n",
        "]"
      ]
    },
    {
      "cell_type": "markdown",
      "source": [
        "## Dada la lista estudiantes:\n",
        "> - Hacer una celda para resolver cada punto.\n",
        "- El TP resuelto será revisado en tu repositorio, no es necesario que lo envíes, pero sí que lo pushees correctamente.\n",
        "- En la nota inicial se contempla:\n",
        "  - La creación del fork.\n",
        "  - El pusheo de los cambios realizados.\n",
        "  - La resolución de los ejercicios propuestos.\n"
      ],
      "metadata": {
        "id": "rd6Ug6v3J4uN"
      }
    },
    {
      "cell_type": "markdown",
      "source": [
        "1. Reemplaza todos los valores por los que obtengas del método title(). De esta manera tu lista quedara con los datos más homogéneos."
      ],
      "metadata": {
        "id": "wRLng-uURyJ3"
      }
    },
    {
      "cell_type": "code",
      "source": [
        "for alumno in alumnos:\n",
        "  alumnos.insert(alumnos.index(alumno), alumno.title())\n",
        "  alumnos.remove(alumno)\n",
        "for i in alumnos:\n",
        "  print(i)"
      ],
      "metadata": {
        "id": "5lFqJoTaSIWi",
        "colab": {
          "base_uri": "https://localhost:8080/"
        },
        "outputId": "d408bbad-335f-4ec6-e636-fd7b012204f5"
      },
      "execution_count": 2,
      "outputs": [
        {
          "output_type": "stream",
          "name": "stdout",
          "text": [
            "Alurralde, Solange Stefania\n",
            "Alvarado, Ludmila Del Milagro\n",
            "Angel, Camila Juliana\n",
            "Arenas, Lucas Gabriel\n",
            "Caseres, Maria Antonia\n",
            "Castillo, Paulina Milagros\n",
            "Correa Segovia, Hugo Mariano\n",
            "D Elia, Alvaro Tadeo\n",
            "Flores, Victoria Agustina\n",
            "Geronimo Soriano, Lizzie Amaya\n",
            "Guzman, Angélica Morena\n",
            "Guzman, Jazmin Esmeralda Belen\n",
            "Jaime, Anita Maria Belen\n",
            "Lacour Polo, Nazarena\n",
            "Lascano Guanca, Marcelo Fabricio\n",
            "Lezcano, Celia Morena\n",
            "Mamani Kynast, Nicolas Mauricio\n",
            "Martinez, Tomas Andres\n",
            "Portella Valdivia, Pedro Francisco\n",
            "Retamal Cisneros, Zacarias Josue\n",
            "Rosales, Francisco Gabriel\n",
            "Salem Barba, Mahia\n",
            "Soto Camara, Agustin Ignacio\n",
            "Villalba, Irina\n",
            "Voltolini, Emanuel Tobias\n",
            "Zalazar, Santino Stefano\n",
            "Abud Laspiur, Lourdes Mariel\n",
            "Amador, Luana Micaela\n",
            "Anaquin, Leonardo Ezequiel\n",
            "Araoz Sanchez, Lautaro Nahuel\n",
            "Argañaraz, Agostina Abril\n",
            "Barrera, Matias Ezequiel\n",
            "Barrozo Vedia, Joaquin Nicolas\n",
            "Bettinelli, Valentino\n",
            "Bracamonte Martinez, Salvador\n",
            "Colque Rivero, Ariana Zoe Del Valle\n",
            "Diaz, Dulce Maitena\n",
            "Figueroa, Santino Josue\n",
            "Flores Cardozo, Agustina Tiara\n",
            "Gallo, Octavio Ismael\n",
            "Galvan, Lourdes Yamila\n",
            "Giangreco, Vitto Tomasso\n",
            "Grancara, Martina Luna\n",
            "Guanca, Sara Elizabeth\n",
            "Lopez, Victoria Constanza\n",
            "Mamani Garrido, Rosario Agostina\n",
            "Marinaro, Martin Ezequiel\n",
            "Merluzzi Dagum, Ignacio\n",
            "Messina, Martina\n",
            "Rasuk, Karim\n",
            "Rios, Lucia Magali\n",
            "Sanchez Flores, Matías Agustín\n",
            "Scarano, Renato Marcelo\n",
            "Sierra, Lucas Mauricio\n",
            "Tapia, Martin Gabriel\n",
            "Vilte, Mia Antonella Alondra\n",
            "Virgillito, Katya Milena\n"
          ]
        }
      ]
    },
    {
      "cell_type": "markdown",
      "source": [
        "2. Desarrolla un script que permita ingresar un nombre y muestre cuantas veces aparece este en la lista\n"
      ],
      "metadata": {
        "id": "dYEGkYZyLy9I"
      }
    },
    {
      "cell_type": "code",
      "source": [
        "nombre_i=input(\"Ingrese un nombre:\").title()\n",
        "contador=0\n",
        "nombres=[]\n",
        "apellidos=[]\n",
        "indice=0\n",
        "for estudiante in alumnos:\n",
        "  apellido,nombre=estudiante.split(\",\")\n",
        "  nombres.insert(indice,nombre.strip())\n",
        "  apellidos.insert(indice,apellido)\n",
        "  indice+=1\n",
        "for nombre in nombres:\n",
        "  if nombre_i == nombre:\n",
        "    contador+=1\n",
        "print(f\"El nombre {nombre_i} aparece {contador} veces\")"
      ],
      "metadata": {
        "id": "-B9fB0sSL_Dk",
        "colab": {
          "base_uri": "https://localhost:8080/"
        },
        "outputId": "e6827637-4946-4988-c9be-fed75fd8e709"
      },
      "execution_count": null,
      "outputs": [
        {
          "output_type": "stream",
          "name": "stdout",
          "text": [
            "Ingrese un nombre:lucia magali\n",
            "El nombre Lucia Magali aparece 1 veces\n"
          ]
        }
      ]
    },
    {
      "cell_type": "code",
      "source": [
        "nombre_u=input(\"Ingrese un nombre:\").title()\n",
        "nombress=[]\n",
        "for estudiante in alumnos:\n",
        "  lista_nombre=estudiante.replace(\",\",\"\").split()\n",
        "  nombress.extend(lista_nombre)\n",
        "print(f\"El nombre {nombre_u} aparece {nombress.count(nombre_u)} veces\")"
      ],
      "metadata": {
        "colab": {
          "base_uri": "https://localhost:8080/"
        },
        "id": "zjX8FBbyONJb",
        "outputId": "a647d78f-8568-4b3c-ae4f-afc016e3801f"
      },
      "execution_count": null,
      "outputs": [
        {
          "output_type": "stream",
          "name": "stdout",
          "text": [
            "Ingrese un nombre:lucia\n",
            "El nombre Lucia aparece 1 veces\n"
          ]
        }
      ]
    },
    {
      "cell_type": "code",
      "source": [
        "cantidad=0\n",
        "nombre_l=input(\"Ingrese un nombre:\").title()\n",
        "for estudiante in alumnos:\n",
        "  if nombre_l in estudiante:\n",
        "    cantidad+=1\n",
        "print(f\"El nombre {nombre_l} aparece {cantidad} veces\")"
      ],
      "metadata": {
        "colab": {
          "base_uri": "https://localhost:8080/"
        },
        "id": "nf3Y2ANlP_ER",
        "outputId": "40187605-b599-4741-e4cf-81539664fff7"
      },
      "execution_count": null,
      "outputs": [
        {
          "output_type": "stream",
          "name": "stdout",
          "text": [
            "Ingrese un nombre:lucia\n",
            "El nombre Lucia aparece 1 veces\n"
          ]
        }
      ]
    },
    {
      "cell_type": "markdown",
      "source": [
        "3. Desarrolla un script en python que permita ingresar un nombre y mostrar en que posición de la lista se encuentra el mismo. Realiza las combinaciones necesarias para que no se genere un error si es que el nombre no existe."
      ],
      "metadata": {
        "id": "UW2dlBsGMAte"
      }
    },
    {
      "cell_type": "code",
      "source": [
        "nombre_completo=input(\"Ingrese un nombre completo:\").title()\n",
        "if nombre_completo in alumnos:\n",
        "  print(f\"El nombre {nombre_completo} se encuentra en la posicion {alumnos.index(nombre_completo)}\")\n",
        "else:\n",
        "  print(f\"El nombre {nombre_completo} no se encuentra en la lista\")\n"
      ],
      "metadata": {
        "id": "EawAy4SANtkl",
        "colab": {
          "base_uri": "https://localhost:8080/"
        },
        "outputId": "0118d1b0-633d-4a55-a528-a00740209c0e"
      },
      "execution_count": null,
      "outputs": [
        {
          "output_type": "stream",
          "name": "stdout",
          "text": [
            "Ingrese un nombre completo:Rios, lucia magali\n",
            "El nombre Rios, Lucia Magali se encuentra en la posicion 50\n"
          ]
        }
      ]
    },
    {
      "cell_type": "markdown",
      "source": [
        "4. Agrega un nombre al final de la lista, otro al principio y otro en la posición anterior a la de tu nombre en la lista. Tene en cuenta el formato usado para ingresar los datos: \"apellidos, nombres\""
      ],
      "metadata": {
        "id": "kZeEHUYVNwGV"
      }
    },
    {
      "cell_type": "code",
      "source": [
        "nombre_1=input(\"Ingrese un nombre:\").title()\n",
        "nombre_2=input(\"Ingrese un nombre:\").title()\n",
        "nombre_3=input(\"Ingrese un nombre:\").title()\n",
        "alumnos.append(nombre_1)\n",
        "alumnos.insert(0,nombre_2)\n",
        "alumnos.insert(51,nombre_3)\n",
        "for i in alumnos:\n",
        "  print(i)"
      ],
      "metadata": {
        "id": "q05GnxXgORzt",
        "colab": {
          "base_uri": "https://localhost:8080/"
        },
        "outputId": "6f93a7bd-e562-4901-e581-96861d8ad621"
      },
      "execution_count": null,
      "outputs": [
        {
          "output_type": "stream",
          "name": "stdout",
          "text": [
            "Ingrese un nombre:Zarate, Mauricio\n",
            "Ingrese un nombre:Avila, Emilia\n",
            "Ingrese un nombre:roca, juan\n",
            "Avila, Emilia\n",
            "Alurralde, Solange Stefania\n",
            "Alvarado, Ludmila Del Milagro\n",
            "Angel, Camila Juliana\n",
            "Arenas, Lucas Gabriel\n",
            "Caseres, Maria Antonia\n",
            "Castillo, Paulina Milagros\n",
            "Correa Segovia, Hugo Mariano\n",
            "D Elia, Alvaro Tadeo\n",
            "Flores, Victoria Agustina\n",
            "Geronimo Soriano, Lizzie Amaya\n",
            "Guzman, Angélica Morena\n",
            "Guzman, Jazmin Esmeralda Belen\n",
            "Jaime, Anita Maria Belen\n",
            "Lacour Polo, Nazarena\n",
            "Lascano Guanca, Marcelo Fabricio\n",
            "Lezcano, Celia Morena\n",
            "Mamani Kynast, Nicolas Mauricio\n",
            "Martinez, Tomas Andres\n",
            "Portella Valdivia, Pedro Francisco\n",
            "Retamal Cisneros, Zacarias Josue\n",
            "Rosales, Francisco Gabriel\n",
            "Salem Barba, Mahia\n",
            "Soto Camara, Agustin Ignacio\n",
            "Villalba, Irina\n",
            "Voltolini, Emanuel Tobias\n",
            "Zalazar, Santino Stefano\n",
            "Abud Laspiur, Lourdes Mariel\n",
            "Amador, Luana Micaela\n",
            "Anaquin, Leonardo Ezequiel\n",
            "Araoz Sanchez, Lautaro Nahuel\n",
            "Argañaraz, Agostina Abril\n",
            "Barrera, Matias Ezequiel\n",
            "Barrozo Vedia, Joaquin Nicolas\n",
            "Bettinelli, Valentino\n",
            "Bracamonte Martinez, Salvador\n",
            "Colque Rivero, Ariana Zoe Del Valle\n",
            "Diaz, Dulce Maitena\n",
            "Figueroa, Santino Josue\n",
            "Flores Cardozo, Agustina Tiara\n",
            "Gallo, Octavio Ismael\n",
            "Galvan, Lourdes Yamila\n",
            "Giangreco, Vitto Tomasso\n",
            "Grancara, Martina Luna\n",
            "Guanca, Sara Elizabeth\n",
            "Lopez, Victoria Constanza\n",
            "Mamani Garrido, Rosario Agostina\n",
            "Marinaro, Martin Ezequiel\n",
            "Merluzzi Dagum, Ignacio\n",
            "Messina, Martina\n",
            "Rasuk, Karim\n",
            "Roca, Juan\n",
            "Rios, Lucia Magali\n",
            "Sanchez Flores, Matías Agustín\n",
            "Scarano, Renato Marcelo\n",
            "Sierra, Lucas Mauricio\n",
            "Tapia, Martin Gabriel\n",
            "Vilte, Mia Antonella Alondra\n",
            "Virgillito, Katya Milena\n",
            "Zarate, Mauricio\n"
          ]
        }
      ]
    },
    {
      "cell_type": "markdown",
      "source": [
        "5. Mostrá cada elemento de la lista mientras la vacias usando el metodo pop(). Para lograr esto usá la estructura while.\n",
        "\n",
        "Tene en cuenta que:\n",
        "\n",
        "\n",
        ">```python\n",
        "bool([]) = False\n",
        "```\n",
        "\n"
      ],
      "metadata": {
        "id": "b_we1Oz4OUBN"
      }
    },
    {
      "cell_type": "code",
      "source": [
        "while alumnos:\n",
        "  alumno=alumnos.pop()\n",
        "  print(alumno)"
      ],
      "metadata": {
        "id": "bjn9DhewPhWF"
      },
      "execution_count": null,
      "outputs": []
    },
    {
      "cell_type": "markdown",
      "source": [
        "6. Crea un menú para ordenar la lista de manera ascendente o descendente. Realiza esta acción y muestra el resultado según la opción elegida por el usuario."
      ],
      "metadata": {
        "id": "xY4BuqGdQBF1"
      }
    },
    {
      "cell_type": "code",
      "source": [
        "orden=int(input(\"Elija una de las siguientes opciones \\n1.Ordenar la lista de forma ascendente \\n2.Ordenar la lista de forma descendente \\n(Ingrese 1 o 2)\"))\n",
        "if orden ==1:\n",
        "  alumnos.sort()\n",
        "  for i in alumnos:\n",
        "    print(i)\n",
        "elif orden ==2:\n",
        "  alumnos.sort(reverse=True)\n",
        "  for i in alumnos:\n",
        "    print(i)\n",
        "else:\n",
        "  orden=int(input(\"La opción ingresada es invalida porfavor ingrese otra: \"))\n",
        "alumnos.sort()"
      ],
      "metadata": {
        "id": "NKR3ciBKSjhr",
        "outputId": "703ffc9a-3e62-4f05-bac3-9880d4bba552",
        "colab": {
          "base_uri": "https://localhost:8080/"
        }
      },
      "execution_count": null,
      "outputs": [
        {
          "output_type": "stream",
          "name": "stdout",
          "text": [
            "Elija una de las siguientes opciones \n",
            "1.Ordenar la lista de forma ascendente \n",
            "2.Ordenar la lista de forma descendente \n",
            "(Ingrese 1 o 2)2\n",
            "Zalazar, Santino Stefano\n",
            "Voltolini, Emanuel Tobias\n",
            "Virgillito, Katya Milena\n",
            "Vilte, Mia Antonella Alondra\n",
            "Villalba, Irina\n",
            "Tapia, Martin Gabriel\n",
            "Soto Camara, Agustin Ignacio\n",
            "Sierra, Lucas Mauricio\n",
            "Scarano, Renato Marcelo\n",
            "Sanchez Flores, Matías Agustín\n",
            "Salem Barba, Mahia\n",
            "Rosales, Francisco Gabriel\n",
            "Rios, Lucia Magali\n",
            "Retamal Cisneros, Zacarias Josue\n",
            "Rasuk, Karim\n",
            "Portella Valdivia, Pedro Francisco\n",
            "Messina, Martina\n",
            "Merluzzi Dagum, Ignacio\n",
            "Martinez, Tomas Andres\n",
            "Marinaro, Martin Ezequiel\n",
            "Mamani Kynast, Nicolas Mauricio\n",
            "Mamani Garrido, Rosario Agostina\n",
            "Lopez, Victoria Constanza\n",
            "Lezcano, Celia Morena\n",
            "Lascano Guanca, Marcelo Fabricio\n",
            "Lacour Polo, Nazarena\n",
            "Jaime, Anita Maria Belen\n",
            "Guzman, Jazmin Esmeralda Belen\n",
            "Guzman, Angélica Morena\n",
            "Guanca, Sara Elizabeth\n",
            "Grancara, Martina Luna\n",
            "Giangreco, Vitto Tomasso\n",
            "Geronimo Soriano, Lizzie Amaya\n",
            "Galvan, Lourdes Yamila\n",
            "Gallo, Octavio Ismael\n",
            "Flores, Victoria Agustina\n",
            "Flores Cardozo, Agustina Tiara\n",
            "Figueroa, Santino Josue\n",
            "Diaz, Dulce Maitena\n",
            "D Elia, Alvaro Tadeo\n",
            "Correa Segovia, Hugo Mariano\n",
            "Colque Rivero, Ariana Zoe Del Valle\n",
            "Castillo, Paulina Milagros\n",
            "Caseres, Maria Antonia\n",
            "Bracamonte Martinez, Salvador\n",
            "Bettinelli, Valentino\n",
            "Barrozo Vedia, Joaquin Nicolas\n",
            "Barrera, Matias Ezequiel\n",
            "Argañaraz, Agostina Abril\n",
            "Arenas, Lucas Gabriel\n",
            "Araoz Sanchez, Lautaro Nahuel\n",
            "Angel, Camila Juliana\n",
            "Anaquin, Leonardo Ezequiel\n",
            "Amador, Luana Micaela\n",
            "Alvarado, Ludmila Del Milagro\n",
            "Alurralde, Solange Stefania\n",
            "Abud Laspiur, Lourdes Mariel\n"
          ]
        }
      ]
    },
    {
      "cell_type": "markdown",
      "source": [
        "7. - Crea, a partir de la lista estudiantes, una nueva lista tupla_estudiantes que contenga los nombres en formato de tuplas, donde el primer elemento sea el apellido y el segundo el nombre.\n",
        "  - Muestra cada tupla de la nueva lista.\n"
      ],
      "metadata": {
        "id": "7wb4sRbOSkdM"
      }
    },
    {
      "cell_type": "code",
      "source": [
        "tupla_estudiantes=[]\n",
        "for alumno in alumnos:\n",
        "  apellido,nombre=alumno.split(\",\")\n",
        "  tupla_estudiantes.append((apellido,nombre))\n",
        "for estudiante in tupla_estudiantes:\n",
        "  print(estudiante)"
      ],
      "metadata": {
        "id": "f9v0mfoZS9_s",
        "outputId": "32d27b6b-6ec1-44ba-c32d-9b516dc38d2a",
        "colab": {
          "base_uri": "https://localhost:8080/"
        }
      },
      "execution_count": 3,
      "outputs": [
        {
          "output_type": "stream",
          "name": "stdout",
          "text": [
            "('Alurralde', ' Solange Stefania')\n",
            "('Alvarado', ' Ludmila Del Milagro')\n",
            "('Angel', ' Camila Juliana')\n",
            "('Arenas', ' Lucas Gabriel')\n",
            "('Caseres', ' Maria Antonia')\n",
            "('Castillo', ' Paulina Milagros')\n",
            "('Correa Segovia', ' Hugo Mariano')\n",
            "('D Elia', ' Alvaro Tadeo')\n",
            "('Flores', ' Victoria Agustina')\n",
            "('Geronimo Soriano', ' Lizzie Amaya')\n",
            "('Guzman', ' Angélica Morena')\n",
            "('Guzman', ' Jazmin Esmeralda Belen')\n",
            "('Jaime', ' Anita Maria Belen')\n",
            "('Lacour Polo', ' Nazarena')\n",
            "('Lascano Guanca', ' Marcelo Fabricio')\n",
            "('Lezcano', ' Celia Morena')\n",
            "('Mamani Kynast', ' Nicolas Mauricio')\n",
            "('Martinez', ' Tomas Andres')\n",
            "('Portella Valdivia', ' Pedro Francisco')\n",
            "('Retamal Cisneros', ' Zacarias Josue')\n",
            "('Rosales', ' Francisco Gabriel')\n",
            "('Salem Barba', ' Mahia')\n",
            "('Soto Camara', ' Agustin Ignacio')\n",
            "('Villalba', ' Irina')\n",
            "('Voltolini', ' Emanuel Tobias')\n",
            "('Zalazar', ' Santino Stefano')\n",
            "('Abud Laspiur', ' Lourdes Mariel')\n",
            "('Amador', ' Luana Micaela')\n",
            "('Anaquin', ' Leonardo Ezequiel')\n",
            "('Araoz Sanchez', ' Lautaro Nahuel')\n",
            "('Argañaraz', ' Agostina Abril')\n",
            "('Barrera', ' Matias Ezequiel')\n",
            "('Barrozo Vedia', ' Joaquin Nicolas')\n",
            "('Bettinelli', ' Valentino')\n",
            "('Bracamonte Martinez', ' Salvador')\n",
            "('Colque Rivero', ' Ariana Zoe Del Valle')\n",
            "('Diaz', ' Dulce Maitena')\n",
            "('Figueroa', ' Santino Josue')\n",
            "('Flores Cardozo', ' Agustina Tiara')\n",
            "('Gallo', ' Octavio Ismael')\n",
            "('Galvan', ' Lourdes Yamila')\n",
            "('Giangreco', ' Vitto Tomasso')\n",
            "('Grancara', ' Martina Luna')\n",
            "('Guanca', ' Sara Elizabeth')\n",
            "('Lopez', ' Victoria Constanza')\n",
            "('Mamani Garrido', ' Rosario Agostina')\n",
            "('Marinaro', ' Martin Ezequiel')\n",
            "('Merluzzi Dagum', ' Ignacio')\n",
            "('Messina', ' Martina')\n",
            "('Rasuk', ' Karim')\n",
            "('Rios', ' Lucia Magali')\n",
            "('Sanchez Flores', ' Matías Agustín')\n",
            "('Scarano', ' Renato Marcelo')\n",
            "('Sierra', ' Lucas Mauricio')\n",
            "('Tapia', ' Martin Gabriel')\n",
            "('Vilte', ' Mia Antonella Alondra')\n",
            "('Virgillito', ' Katya Milena')\n"
          ]
        }
      ]
    },
    {
      "cell_type": "markdown",
      "source": [
        "8. Crea un menú como el del ejercicio 6, pero ahora permite elegir si ordenar alfabéticamente por nombre o por apellido.\n",
        "> Para resolver este ejercicio, solicitar ayuda en clase o en el foro\n"
      ],
      "metadata": {
        "id": "PziNZOOBS_UQ"
      }
    },
    {
      "cell_type": "code",
      "source": [
        "def segundo_elemento(tupla):\n",
        "   return tupla[1]"
      ],
      "metadata": {
        "id": "UOmTRxqzJADu"
      },
      "execution_count": 9,
      "outputs": []
    },
    {
      "cell_type": "code",
      "source": [
        "opciones=int(input(\"Elija: \\na. Ordenar la lista alfabeticamente por apellido \\nad. Ordenar por apellido de forma descendente \\na. Ordenar por nombre de forma ascendente \\nd. Ordenar por nombre de forma descendente \\nInserte la opcion deseada (a,ad,na,nd): \"))\n",
        "opciones=opciones.lower()\n",
        "if opciones == \"a\":\n",
        "   tupla_estudiantes.sort()\n",
        "   for i in tupla_estudiantes:\n",
        "     print(i)\n",
        "elif opciones == \"ad\":\n",
        "   tupla_estudantes.sort(reverse=True)\n",
        "   for i in tupla_estudiantes:\n",
        "      print(i)\n",
        "elif opciones == \"na\":\n",
        "   tupla_estudiantes.sort(key=segundo_elemento)\n",
        "   for i in tupla_estudiantes:\n",
        "     print(i)\n",
        "elif opciones == \"nd\":\n",
        "   tupla_estudiantes.sort(key=segundo_elemento,reverse=True)\n",
        "   for i in tupla_estudiantes:\n",
        "     print(i)\n",
        "else:\n",
        "   opciones=int(input(\"La opción ingresada es invalida porfavor ingrese otra: \"))"
      ],
      "metadata": {
        "id": "X7Xu-KyaTWth",
        "outputId": "cce0c1c1-d3fb-43a0-d088-ac95ba9cbbd4",
        "colab": {
          "base_uri": "https://localhost:8080/",
          "height": 669
        }
      },
      "execution_count": 5,
      "outputs": [
        {
          "output_type": "error",
          "ename": "KeyboardInterrupt",
          "evalue": "Interrupted by user",
          "traceback": [
            "\u001b[0;31m---------------------------------------------------------------------------\u001b[0m",
            "\u001b[0;31mKeyboardInterrupt\u001b[0m                         Traceback (most recent call last)",
            "\u001b[0;32m<ipython-input-5-cf0afe093ccf>\u001b[0m in \u001b[0;36m<cell line: 1>\u001b[0;34m()\u001b[0m\n\u001b[0;32m----> 1\u001b[0;31m \u001b[0mopciones\u001b[0m\u001b[0;34m=\u001b[0m\u001b[0mint\u001b[0m\u001b[0;34m(\u001b[0m\u001b[0minput\u001b[0m\u001b[0;34m(\u001b[0m\u001b[0;34m\"Elija: \\na. Ordenar la lista alfabeticamente \\nb. Ordenar por nombre \\nc. Ordenar por apellido \\nInserte la opcion deseada (a,b,c): \"\u001b[0m\u001b[0;34m)\u001b[0m\u001b[0;34m)\u001b[0m\u001b[0;34m\u001b[0m\u001b[0;34m\u001b[0m\u001b[0m\n\u001b[0m",
            "\u001b[0;32m/usr/local/lib/python3.10/dist-packages/ipykernel/kernelbase.py\u001b[0m in \u001b[0;36mraw_input\u001b[0;34m(self, prompt)\u001b[0m\n\u001b[1;32m    849\u001b[0m                 \u001b[0;34m\"raw_input was called, but this frontend does not support input requests.\"\u001b[0m\u001b[0;34m\u001b[0m\u001b[0;34m\u001b[0m\u001b[0m\n\u001b[1;32m    850\u001b[0m             )\n\u001b[0;32m--> 851\u001b[0;31m         return self._input_request(str(prompt),\n\u001b[0m\u001b[1;32m    852\u001b[0m             \u001b[0mself\u001b[0m\u001b[0;34m.\u001b[0m\u001b[0m_parent_ident\u001b[0m\u001b[0;34m,\u001b[0m\u001b[0;34m\u001b[0m\u001b[0;34m\u001b[0m\u001b[0m\n\u001b[1;32m    853\u001b[0m             \u001b[0mself\u001b[0m\u001b[0;34m.\u001b[0m\u001b[0m_parent_header\u001b[0m\u001b[0;34m,\u001b[0m\u001b[0;34m\u001b[0m\u001b[0;34m\u001b[0m\u001b[0m\n",
            "\u001b[0;32m/usr/local/lib/python3.10/dist-packages/ipykernel/kernelbase.py\u001b[0m in \u001b[0;36m_input_request\u001b[0;34m(self, prompt, ident, parent, password)\u001b[0m\n\u001b[1;32m    893\u001b[0m             \u001b[0;32mexcept\u001b[0m \u001b[0mKeyboardInterrupt\u001b[0m\u001b[0;34m:\u001b[0m\u001b[0;34m\u001b[0m\u001b[0;34m\u001b[0m\u001b[0m\n\u001b[1;32m    894\u001b[0m                 \u001b[0;31m# re-raise KeyboardInterrupt, to truncate traceback\u001b[0m\u001b[0;34m\u001b[0m\u001b[0;34m\u001b[0m\u001b[0m\n\u001b[0;32m--> 895\u001b[0;31m                 \u001b[0;32mraise\u001b[0m \u001b[0mKeyboardInterrupt\u001b[0m\u001b[0;34m(\u001b[0m\u001b[0;34m\"Interrupted by user\"\u001b[0m\u001b[0;34m)\u001b[0m \u001b[0;32mfrom\u001b[0m \u001b[0;32mNone\u001b[0m\u001b[0;34m\u001b[0m\u001b[0;34m\u001b[0m\u001b[0m\n\u001b[0m\u001b[1;32m    896\u001b[0m             \u001b[0;32mexcept\u001b[0m \u001b[0mException\u001b[0m \u001b[0;32mas\u001b[0m \u001b[0me\u001b[0m\u001b[0;34m:\u001b[0m\u001b[0;34m\u001b[0m\u001b[0;34m\u001b[0m\u001b[0m\n\u001b[1;32m    897\u001b[0m                 \u001b[0mself\u001b[0m\u001b[0;34m.\u001b[0m\u001b[0mlog\u001b[0m\u001b[0;34m.\u001b[0m\u001b[0mwarning\u001b[0m\u001b[0;34m(\u001b[0m\u001b[0;34m\"Invalid Message:\"\u001b[0m\u001b[0;34m,\u001b[0m \u001b[0mexc_info\u001b[0m\u001b[0;34m=\u001b[0m\u001b[0;32mTrue\u001b[0m\u001b[0;34m)\u001b[0m\u001b[0;34m\u001b[0m\u001b[0;34m\u001b[0m\u001b[0m\n",
            "\u001b[0;31mKeyboardInterrupt\u001b[0m: Interrupted by user"
          ]
        }
      ]
    },
    {
      "cell_type": "markdown",
      "source": [
        "9. Agrega un dato en la posición siguiente a la de tu nombre en el nuevo formato de tupla. Para esto solicita al usuario su nombre y apellido, almacena estos datos en una tupla y agrega la misma a la lista \"tupla_estudiantes\""
      ],
      "metadata": {
        "id": "mtnmvoZ9TXii"
      }
    },
    {
      "cell_type": "code",
      "source": [
        "nombre=input(\"Ingrese el nombre que desea agregar: \")\n",
        "apellido=input(\"Ingrese el apellido que desea agregar: \")\n",
        "tupla=(apellido, nombre)\n",
        "tupla_estudiantes.insert(51,tupla)\n",
        "for i in tupla_estudiantes:\n",
        "   print(i)"
      ],
      "metadata": {
        "id": "RSXz_XcvT0Nc",
        "outputId": "a57e342f-7eef-49bc-ee6f-dba400be0b73",
        "colab": {
          "base_uri": "https://localhost:8080/"
        }
      },
      "execution_count": 8,
      "outputs": [
        {
          "output_type": "stream",
          "name": "stdout",
          "text": [
            "Ingrese el nombre que desea agregar: Juan Manuel\n",
            "Ingrese el apellido que desea agregar: Roca\n",
            "('Alurralde', ' Solange Stefania')\n",
            "('Alvarado', ' Ludmila Del Milagro')\n",
            "('Angel', ' Camila Juliana')\n",
            "('Arenas', ' Lucas Gabriel')\n",
            "('Caseres', ' Maria Antonia')\n",
            "('Castillo', ' Paulina Milagros')\n",
            "('Correa Segovia', ' Hugo Mariano')\n",
            "('D Elia', ' Alvaro Tadeo')\n",
            "('Flores', ' Victoria Agustina')\n",
            "('Geronimo Soriano', ' Lizzie Amaya')\n",
            "('Guzman', ' Angélica Morena')\n",
            "('Guzman', ' Jazmin Esmeralda Belen')\n",
            "('Jaime', ' Anita Maria Belen')\n",
            "('Lacour Polo', ' Nazarena')\n",
            "('Lascano Guanca', ' Marcelo Fabricio')\n",
            "('Lezcano', ' Celia Morena')\n",
            "('Mamani Kynast', ' Nicolas Mauricio')\n",
            "('Martinez', ' Tomas Andres')\n",
            "('Portella Valdivia', ' Pedro Francisco')\n",
            "('Retamal Cisneros', ' Zacarias Josue')\n",
            "('Rosales', ' Francisco Gabriel')\n",
            "('Salem Barba', ' Mahia')\n",
            "('Soto Camara', ' Agustin Ignacio')\n",
            "('Villalba', ' Irina')\n",
            "('Voltolini', ' Emanuel Tobias')\n",
            "('Zalazar', ' Santino Stefano')\n",
            "('Abud Laspiur', ' Lourdes Mariel')\n",
            "('Amador', ' Luana Micaela')\n",
            "('Anaquin', ' Leonardo Ezequiel')\n",
            "('Araoz Sanchez', ' Lautaro Nahuel')\n",
            "('Argañaraz', ' Agostina Abril')\n",
            "('Barrera', ' Matias Ezequiel')\n",
            "('Barrozo Vedia', ' Joaquin Nicolas')\n",
            "('Bettinelli', ' Valentino')\n",
            "('Bracamonte Martinez', ' Salvador')\n",
            "('Colque Rivero', ' Ariana Zoe Del Valle')\n",
            "('Diaz', ' Dulce Maitena')\n",
            "('Figueroa', ' Santino Josue')\n",
            "('Flores Cardozo', ' Agustina Tiara')\n",
            "('Gallo', ' Octavio Ismael')\n",
            "('Galvan', ' Lourdes Yamila')\n",
            "('Giangreco', ' Vitto Tomasso')\n",
            "('Grancara', ' Martina Luna')\n",
            "('Guanca', ' Sara Elizabeth')\n",
            "('Lopez', ' Victoria Constanza')\n",
            "('Mamani Garrido', ' Rosario Agostina')\n",
            "('Marinaro', ' Martin Ezequiel')\n",
            "('Merluzzi Dagum', ' Ignacio')\n",
            "('Messina', ' Martina')\n",
            "('Rasuk', ' Karim')\n",
            "('Rios', ' Lucia Magali')\n",
            "('Roca', 'Juan Manuel')\n",
            "('Sanchez Flores', ' Matías Agustín')\n",
            "('Scarano', ' Renato Marcelo')\n",
            "('Sierra', ' Lucas Mauricio')\n",
            "('Tapia', ' Martin Gabriel')\n",
            "('Vilte', ' Mia Antonella Alondra')\n",
            "('Virgillito', ' Katya Milena')\n",
            "('Zarapura', 'Milagros Sara')\n"
          ]
        }
      ]
    },
    {
      "cell_type": "markdown",
      "source": [
        "10. - Pedir al usuario un nombre y mostrar todos los estudiantes que tengan ese nombre.\n",
        "  - Hacer lo mismo con un apellido.\n"
      ],
      "metadata": {
        "id": "dY4y7OVPT1FT"
      }
    },
    {
      "cell_type": "code",
      "source": [
        "nom=input(\"Ingrese un nombre: \")\n",
        "indice=0\n",
        "for i in tupla_estudiantes:\n",
        "  if nom in tupla_estudiantes:\n",
        "     print(i)\n",
        "     indice+=1\n",
        "  else:\n",
        "     indice+=1\n",
        "print(indice)"
      ],
      "metadata": {
        "id": "bVTVfjH4VMBM",
        "outputId": "e4571a7c-7fb8-41c3-a0cb-300a82ff8d9f",
        "colab": {
          "base_uri": "https://localhost:8080/"
        }
      },
      "execution_count": 16,
      "outputs": [
        {
          "output_type": "stream",
          "name": "stdout",
          "text": [
            "Ingrese un nombre: Karim\n",
            "59\n"
          ]
        }
      ]
    },
    {
      "cell_type": "markdown",
      "source": [
        "11. Pedir un nombre al usuario y eliminar todos los registros donde se encuentre un estudiante con el nombre ingresado.\n"
      ],
      "metadata": {
        "id": "7zdJLrqXVM30"
      }
    },
    {
      "cell_type": "code",
      "source": [
        "pass"
      ],
      "metadata": {
        "id": "3_rnimG_VQr6"
      },
      "execution_count": null,
      "outputs": []
    },
    {
      "cell_type": "markdown",
      "source": [
        "12. Pedir dos apellidos al usuario, y reemplazar el primer apellido por el segundo en todos los registros donde se encuentre."
      ],
      "metadata": {
        "id": "DGU_hs0BVRfa"
      }
    },
    {
      "cell_type": "code",
      "source": [
        "pass"
      ],
      "metadata": {
        "id": "ghxBxrzTV6aL"
      },
      "execution_count": null,
      "outputs": []
    }
  ]
}