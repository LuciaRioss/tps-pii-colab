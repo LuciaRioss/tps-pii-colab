{
  "nbformat": 4,
  "nbformat_minor": 0,
  "metadata": {
    "colab": {
      "provenance": [],
      "include_colab_link": true
    },
    "kernelspec": {
      "name": "python3",
      "display_name": "Python 3"
    },
    "language_info": {
      "name": "python"
    }
  },
  "cells": [
    {
      "cell_type": "markdown",
      "metadata": {
        "id": "view-in-github",
        "colab_type": "text"
      },
      "source": [
        "<a href=\"https://colab.research.google.com/github/LuciaRioss/tps-pii-colab-copia/blob/main/Lista_string_tupla_Pr%C3%A1ctica.ipynb\" target=\"_parent\"><img src=\"https://colab.research.google.com/assets/colab-badge.svg\" alt=\"Open In Colab\"/></a>"
      ]
    },
    {
      "cell_type": "code",
      "execution_count": 3,
      "metadata": {
        "id": "8VOD-zpMJovw"
      },
      "outputs": [],
      "source": [
        "# Lista de alumnos\n",
        "alumnos = [\n",
        "    \"Alurralde, Solange Stefania\",\n",
        "    \"Alvarado, Ludmila Del Milagro\",\n",
        "    \"Angel, Camila Juliana\",\n",
        "    \"Arenas, Lucas Gabriel\",\n",
        "    \"Caseres, Maria Antonia\",\n",
        "    \"Castillo, Paulina Milagros\",\n",
        "    \"Correa Segovia, Hugo Mariano\",\n",
        "    \"D Elia, Alvaro Tadeo\",\n",
        "    \"Flores, Victoria Agustina\",\n",
        "    \"Geronimo Soriano, Lizzie Amaya\",\n",
        "    \"GUZMAN, ANGÉLICA MORENA\",\n",
        "    \"Guzman, Jazmin Esmeralda Belen\",\n",
        "    \"Jaime, Anita Maria Belen\",\n",
        "    \"Lacour Polo, Nazarena\",\n",
        "    \"Lascano Guanca, Marcelo Fabricio\",\n",
        "    \"Lezcano, Celia Morena\",\n",
        "    \"Mamani Kynast, Nicolas Mauricio\",\n",
        "    \"Martinez, Tomas Andres\",\n",
        "    \"PORTELLA VALDIVIA, PEDRO FRANCISCO\",\n",
        "    \"Retamal Cisneros, Zacarias Josue\",\n",
        "    \"Rosales, Francisco Gabriel\",\n",
        "    \"Salem Barba, Mahia\",\n",
        "    \"Soto Camara, Agustin Ignacio\",\n",
        "    \"Villalba, Irina\",\n",
        "    \"Voltolini, Emanuel Tobias\",\n",
        "    \"Zalazar, Santino Stefano\",\n",
        "    \"ABUD LASPIUR, LOURDES MARIEL\",\n",
        "    \"Amador, Luana Micaela\",\n",
        "    \"Anaquin, Leonardo Ezequiel\",\n",
        "    \"Araoz Sanchez, Lautaro Nahuel\",\n",
        "    \"Argañaraz, Agostina Abril\",\n",
        "    \"Barrera, Matias Ezequiel\",\n",
        "    \"Barrozo Vedia, Joaquin Nicolas\",\n",
        "    \"Bettinelli, Valentino\",\n",
        "    \"Bracamonte Martinez, Salvador\",\n",
        "    \"Colque Rivero, Ariana Zoe Del Valle\",\n",
        "    \"Diaz, Dulce Maitena\",\n",
        "    \"FIGUEROA, SANTINO JOSUE\",\n",
        "    \"Flores Cardozo, Agustina Tiara\",\n",
        "    \"Gallo, Octavio Ismael\",\n",
        "    \"Galvan, Lourdes Yamila\",\n",
        "    \"Giangreco, Vitto Tomasso\",\n",
        "    \"Grancara, Martina Luna\",\n",
        "    \"Guanca, Sara Elizabeth\",\n",
        "    \"Lopez, Victoria Constanza\",\n",
        "    \"Mamani Garrido, Rosario Agostina\",\n",
        "    \"Marinaro, Martin Ezequiel\",\n",
        "    \"Merluzzi Dagum, Ignacio\",\n",
        "    \"Messina, Martina\",\n",
        "    \"RASUK, KARIM\", \"Rios, Lucia Magali\",\n",
        "    \"Sanchez Flores, Matías Agustín\",\n",
        "    \"Scarano, Renato Marcelo\",\n",
        "    \"Sierra, Lucas Mauricio\",\n",
        "    \"Tapia, Martin Gabriel\",\n",
        "    \"Vilte, Mia Antonella Alondra\",\n",
        "    \"Virgillito, Katya Milena\"\n",
        "]"
      ]
    },
    {
      "cell_type": "markdown",
      "source": [
        "## Dada la lista estudiantes:\n",
        "> - Hacer una celda para resolver cada punto.\n",
        "- El TP resuelto será revisado en tu repositorio, no es necesario que lo envíes, pero sí que lo pushees correctamente.\n",
        "- En la nota inicial se contempla:\n",
        "  - La creación del fork.\n",
        "  - El pusheo de los cambios realizados.\n",
        "  - La resolución de los ejercicios propuestos.\n"
      ],
      "metadata": {
        "id": "rd6Ug6v3J4uN"
      }
    },
    {
      "cell_type": "markdown",
      "source": [
        "1. Reemplaza todos los valores por los que obtengas del método title(). De esta manera tu lista quedara con los datos más homogéneos."
      ],
      "metadata": {
        "id": "wRLng-uURyJ3"
      }
    },
    {
      "cell_type": "code",
      "source": [
        "for alumno in alumnos:\n",
        "  alumnos.insert(alumnos.index(alumno), alumno.title())\n",
        "  alumnos.remove(alumno)\n",
        "for i in alumnos:\n",
        "  print(i)"
      ],
      "metadata": {
        "id": "5lFqJoTaSIWi",
        "colab": {
          "base_uri": "https://localhost:8080/"
        },
        "outputId": "bc799489-27b5-44b2-85a6-1b383d47fcee"
      },
      "execution_count": 4,
      "outputs": [
        {
          "output_type": "stream",
          "name": "stdout",
          "text": [
            "Alurralde, Solange Stefania\n",
            "Alvarado, Ludmila Del Milagro\n",
            "Angel, Camila Juliana\n",
            "Arenas, Lucas Gabriel\n",
            "Caseres, Maria Antonia\n",
            "Castillo, Paulina Milagros\n",
            "Correa Segovia, Hugo Mariano\n",
            "D Elia, Alvaro Tadeo\n",
            "Flores, Victoria Agustina\n",
            "Geronimo Soriano, Lizzie Amaya\n",
            "Guzman, Angélica Morena\n",
            "Guzman, Jazmin Esmeralda Belen\n",
            "Jaime, Anita Maria Belen\n",
            "Lacour Polo, Nazarena\n",
            "Lascano Guanca, Marcelo Fabricio\n",
            "Lezcano, Celia Morena\n",
            "Mamani Kynast, Nicolas Mauricio\n",
            "Martinez, Tomas Andres\n",
            "Portella Valdivia, Pedro Francisco\n",
            "Retamal Cisneros, Zacarias Josue\n",
            "Rosales, Francisco Gabriel\n",
            "Salem Barba, Mahia\n",
            "Soto Camara, Agustin Ignacio\n",
            "Villalba, Irina\n",
            "Voltolini, Emanuel Tobias\n",
            "Zalazar, Santino Stefano\n",
            "Abud Laspiur, Lourdes Mariel\n",
            "Amador, Luana Micaela\n",
            "Anaquin, Leonardo Ezequiel\n",
            "Araoz Sanchez, Lautaro Nahuel\n",
            "Argañaraz, Agostina Abril\n",
            "Barrera, Matias Ezequiel\n",
            "Barrozo Vedia, Joaquin Nicolas\n",
            "Bettinelli, Valentino\n",
            "Bracamonte Martinez, Salvador\n",
            "Colque Rivero, Ariana Zoe Del Valle\n",
            "Diaz, Dulce Maitena\n",
            "Figueroa, Santino Josue\n",
            "Flores Cardozo, Agustina Tiara\n",
            "Gallo, Octavio Ismael\n",
            "Galvan, Lourdes Yamila\n",
            "Giangreco, Vitto Tomasso\n",
            "Grancara, Martina Luna\n",
            "Guanca, Sara Elizabeth\n",
            "Lopez, Victoria Constanza\n",
            "Mamani Garrido, Rosario Agostina\n",
            "Marinaro, Martin Ezequiel\n",
            "Merluzzi Dagum, Ignacio\n",
            "Messina, Martina\n",
            "Rasuk, Karim\n",
            "Rios, Lucia Magali\n",
            "Sanchez Flores, Matías Agustín\n",
            "Scarano, Renato Marcelo\n",
            "Sierra, Lucas Mauricio\n",
            "Tapia, Martin Gabriel\n",
            "Vilte, Mia Antonella Alondra\n",
            "Virgillito, Katya Milena\n"
          ]
        }
      ]
    },
    {
      "cell_type": "markdown",
      "source": [
        "2. Desarrolla un script que permita ingresar un nombre y muestre cuantas veces aparece este en la lista\n"
      ],
      "metadata": {
        "id": "dYEGkYZyLy9I"
      }
    },
    {
      "cell_type": "code",
      "source": [
        "nombre_i=input(\"Ingrese un nombre:\").title()\n",
        "contador=0\n",
        "nombres=[]\n",
        "apellidos=[]\n",
        "indice=0\n",
        "for estudiante in alumnos:\n",
        "  apellido,nombre=estudiante.split(\",\")\n",
        "  nombres.insert(indice,nombre.strip())\n",
        "  apellidos.insert(indice,apellido)\n",
        "  indice+=1\n",
        "for nombre in nombres:\n",
        "  if nombre_i == nombre:\n",
        "    contador+=1\n",
        "print(f\"El nombre {nombre_i} aparece {contador} veces\")"
      ],
      "metadata": {
        "id": "-B9fB0sSL_Dk",
        "colab": {
          "base_uri": "https://localhost:8080/"
        },
        "outputId": "f93e9a01-4a03-4c3a-8263-5b9a6a6b427c"
      },
      "execution_count": null,
      "outputs": [
        {
          "output_type": "stream",
          "name": "stdout",
          "text": [
            "Ingrese un nombre:Lucia Magali\n",
            "El nombre Lucia Magali aparece 1 veces\n"
          ]
        }
      ]
    },
    {
      "cell_type": "code",
      "source": [
        "nombre_u=input(\"Ingrese un nombre:\").title()\n",
        "nombress=[]\n",
        "for estudiante in alumnos:\n",
        "  lista_nombre=estudiante.replace(\",\",\"\").split()\n",
        "  nombress.extend(lista_nombre)\n",
        "print(f\"El nombre {nombre_u} aparece {nombress.count(nombre_u)} veces\")"
      ],
      "metadata": {
        "colab": {
          "base_uri": "https://localhost:8080/"
        },
        "id": "zjX8FBbyONJb",
        "outputId": "a647d78f-8568-4b3c-ae4f-afc016e3801f"
      },
      "execution_count": null,
      "outputs": [
        {
          "output_type": "stream",
          "name": "stdout",
          "text": [
            "Ingrese un nombre:lucia\n",
            "El nombre Lucia aparece 1 veces\n"
          ]
        }
      ]
    },
    {
      "cell_type": "code",
      "source": [
        "cantidad=0\n",
        "nombre_l=input(\"Ingrese un nombre:\").title()\n",
        "for estudiante in alumnos:\n",
        "  if nombre_l in estudiante:\n",
        "    cantidad+=1\n",
        "print(f\"El nombre {nombre_l} aparece {cantidad} veces\")"
      ],
      "metadata": {
        "colab": {
          "base_uri": "https://localhost:8080/"
        },
        "id": "nf3Y2ANlP_ER",
        "outputId": "40187605-b599-4741-e4cf-81539664fff7"
      },
      "execution_count": null,
      "outputs": [
        {
          "output_type": "stream",
          "name": "stdout",
          "text": [
            "Ingrese un nombre:lucia\n",
            "El nombre Lucia aparece 1 veces\n"
          ]
        }
      ]
    },
    {
      "cell_type": "markdown",
      "source": [
        "3. Desarrolla un script en python que permita ingresar un nombre y mostrar en que posición de la lista se encuentra el mismo. Realiza las combinaciones necesarias para que no se genere un error si es que el nombre no existe."
      ],
      "metadata": {
        "id": "UW2dlBsGMAte"
      }
    },
    {
      "cell_type": "code",
      "source": [
        "nombre_completo=input(\"Ingrese un nombre completo:\").title()\n",
        "if nombre_completo in alumnos:\n",
        "  print(f\"El nombre {nombre_completo} se encuentra en la posicion {alumnos.index(nombre_completo)}\")\n",
        "else:\n",
        "  print(f\"El nombre {nombre_completo} no se encuentra en la lista\")\n"
      ],
      "metadata": {
        "id": "EawAy4SANtkl",
        "colab": {
          "base_uri": "https://localhost:8080/"
        },
        "outputId": "8f703b6b-a1d3-4e0c-e1a0-914b5400b5ad"
      },
      "execution_count": null,
      "outputs": [
        {
          "output_type": "stream",
          "name": "stdout",
          "text": [
            "Ingrese un nombre completo:Rios, Lucia Magali\n",
            "El nombre Rios, Lucia Magali se encuentra en la posicion 50\n"
          ]
        }
      ]
    },
    {
      "cell_type": "markdown",
      "source": [
        "4. Agrega un nombre al final de la lista, otro al principio y otro en la posición anterior a la de tu nombre en la lista. Tene en cuenta el formato usado para ingresar los datos: \"apellidos, nombres\""
      ],
      "metadata": {
        "id": "kZeEHUYVNwGV"
      }
    },
    {
      "cell_type": "code",
      "source": [
        "nombre_1=input(\"Ingrese un nombre:\").title()\n",
        "nombre_2=input(\"Ingrese un nombre:\").title()\n",
        "nombre_3=input(\"Ingrese un nombre:\").title()\n",
        "alumnos.append(nombre_1)\n",
        "alumnos.insert(0,nombre_2)\n",
        "alumnos.insert(51,nombre_3)\n",
        "for i in alumnos:\n",
        "  print(i)"
      ],
      "metadata": {
        "id": "q05GnxXgORzt",
        "colab": {
          "base_uri": "https://localhost:8080/"
        },
        "outputId": "a4f463ca-b031-440c-c14e-6c1bf673ae7b"
      },
      "execution_count": null,
      "outputs": [
        {
          "output_type": "stream",
          "name": "stdout",
          "text": [
            "Ingrese un nombre:Zarate, Mauricio\n",
            "Ingrese un nombre:Avila, Emilia\n",
            "Ingrese un nombre:Ramal, Victor\n",
            "Avila, Emilia\n",
            "Alurralde, Solange Stefania\n",
            "Alvarado, Ludmila Del Milagro\n",
            "Angel, Camila Juliana\n",
            "Arenas, Lucas Gabriel\n",
            "Caseres, Maria Antonia\n",
            "Castillo, Paulina Milagros\n",
            "Correa Segovia, Hugo Mariano\n",
            "D Elia, Alvaro Tadeo\n",
            "Flores, Victoria Agustina\n",
            "Geronimo Soriano, Lizzie Amaya\n",
            "Guzman, Angélica Morena\n",
            "Guzman, Jazmin Esmeralda Belen\n",
            "Jaime, Anita Maria Belen\n",
            "Lacour Polo, Nazarena\n",
            "Lascano Guanca, Marcelo Fabricio\n",
            "Lezcano, Celia Morena\n",
            "Mamani Kynast, Nicolas Mauricio\n",
            "Martinez, Tomas Andres\n",
            "Portella Valdivia, Pedro Francisco\n",
            "Retamal Cisneros, Zacarias Josue\n",
            "Rosales, Francisco Gabriel\n",
            "Salem Barba, Mahia\n",
            "Soto Camara, Agustin Ignacio\n",
            "Villalba, Irina\n",
            "Voltolini, Emanuel Tobias\n",
            "Zalazar, Santino Stefano\n",
            "Abud Laspiur, Lourdes Mariel\n",
            "Amador, Luana Micaela\n",
            "Anaquin, Leonardo Ezequiel\n",
            "Araoz Sanchez, Lautaro Nahuel\n",
            "Argañaraz, Agostina Abril\n",
            "Barrera, Matias Ezequiel\n",
            "Barrozo Vedia, Joaquin Nicolas\n",
            "Bettinelli, Valentino\n",
            "Bracamonte Martinez, Salvador\n",
            "Colque Rivero, Ariana Zoe Del Valle\n",
            "Diaz, Dulce Maitena\n",
            "Figueroa, Santino Josue\n",
            "Flores Cardozo, Agustina Tiara\n",
            "Gallo, Octavio Ismael\n",
            "Galvan, Lourdes Yamila\n",
            "Giangreco, Vitto Tomasso\n",
            "Grancara, Martina Luna\n",
            "Guanca, Sara Elizabeth\n",
            "Lopez, Victoria Constanza\n",
            "Mamani Garrido, Rosario Agostina\n",
            "Marinaro, Martin Ezequiel\n",
            "Merluzzi Dagum, Ignacio\n",
            "Messina, Martina\n",
            "Rasuk, Karim\n",
            "Ramal, Victor\n",
            "Rios, Lucia Magali\n",
            "Sanchez Flores, Matías Agustín\n",
            "Scarano, Renato Marcelo\n",
            "Sierra, Lucas Mauricio\n",
            "Tapia, Martin Gabriel\n",
            "Vilte, Mia Antonella Alondra\n",
            "Virgillito, Katya Milena\n",
            "Zarate, Mauricio\n"
          ]
        }
      ]
    },
    {
      "cell_type": "markdown",
      "source": [
        "5. Mostrá cada elemento de la lista mientras la vacias usando el metodo pop(). Para lograr esto usá la estructura while.\n",
        "\n",
        "Tene en cuenta que:\n",
        "\n",
        "\n",
        ">```python\n",
        "bool([]) = False\n",
        "```\n",
        "\n"
      ],
      "metadata": {
        "id": "b_we1Oz4OUBN"
      }
    },
    {
      "cell_type": "code",
      "source": [
        "while alumnos:\n",
        "  alumno=alumnos.pop()\n",
        "  print(alumno)"
      ],
      "metadata": {
        "id": "bjn9DhewPhWF",
        "outputId": "37101663-ad2f-417a-dffb-c9e1f18d5c4d",
        "colab": {
          "base_uri": "https://localhost:8080/"
        }
      },
      "execution_count": null,
      "outputs": [
        {
          "output_type": "stream",
          "name": "stdout",
          "text": [
            "Zarate, Mauricio\n",
            "Virgillito, Katya Milena\n",
            "Vilte, Mia Antonella Alondra\n",
            "Tapia, Martin Gabriel\n",
            "Sierra, Lucas Mauricio\n",
            "Scarano, Renato Marcelo\n",
            "Sanchez Flores, Matías Agustín\n",
            "Rios, Lucia Magali\n",
            "Ramal, Victor\n",
            "Rasuk, Karim\n",
            "Messina, Martina\n",
            "Merluzzi Dagum, Ignacio\n",
            "Marinaro, Martin Ezequiel\n",
            "Mamani Garrido, Rosario Agostina\n",
            "Lopez, Victoria Constanza\n",
            "Guanca, Sara Elizabeth\n",
            "Grancara, Martina Luna\n",
            "Giangreco, Vitto Tomasso\n",
            "Galvan, Lourdes Yamila\n",
            "Gallo, Octavio Ismael\n",
            "Flores Cardozo, Agustina Tiara\n",
            "Figueroa, Santino Josue\n",
            "Diaz, Dulce Maitena\n",
            "Colque Rivero, Ariana Zoe Del Valle\n",
            "Bracamonte Martinez, Salvador\n",
            "Bettinelli, Valentino\n",
            "Barrozo Vedia, Joaquin Nicolas\n",
            "Barrera, Matias Ezequiel\n",
            "Argañaraz, Agostina Abril\n",
            "Araoz Sanchez, Lautaro Nahuel\n",
            "Anaquin, Leonardo Ezequiel\n",
            "Amador, Luana Micaela\n",
            "Abud Laspiur, Lourdes Mariel\n",
            "Zalazar, Santino Stefano\n",
            "Voltolini, Emanuel Tobias\n",
            "Villalba, Irina\n",
            "Soto Camara, Agustin Ignacio\n",
            "Salem Barba, Mahia\n",
            "Rosales, Francisco Gabriel\n",
            "Retamal Cisneros, Zacarias Josue\n",
            "Portella Valdivia, Pedro Francisco\n",
            "Martinez, Tomas Andres\n",
            "Mamani Kynast, Nicolas Mauricio\n",
            "Lezcano, Celia Morena\n",
            "Lascano Guanca, Marcelo Fabricio\n",
            "Lacour Polo, Nazarena\n",
            "Jaime, Anita Maria Belen\n",
            "Guzman, Jazmin Esmeralda Belen\n",
            "Guzman, Angélica Morena\n",
            "Geronimo Soriano, Lizzie Amaya\n",
            "Flores, Victoria Agustina\n",
            "D Elia, Alvaro Tadeo\n",
            "Correa Segovia, Hugo Mariano\n",
            "Castillo, Paulina Milagros\n",
            "Caseres, Maria Antonia\n",
            "Arenas, Lucas Gabriel\n",
            "Angel, Camila Juliana\n",
            "Alvarado, Ludmila Del Milagro\n",
            "Alurralde, Solange Stefania\n",
            "Avila, Emilia\n"
          ]
        }
      ]
    },
    {
      "cell_type": "markdown",
      "source": [
        "6. Crea un menú para ordenar la lista de manera ascendente o descendente. Realiza esta acción y muestra el resultado según la opción elegida por el usuario."
      ],
      "metadata": {
        "id": "xY4BuqGdQBF1"
      }
    },
    {
      "cell_type": "code",
      "source": [
        "orden=int(input(\"Elija una de las siguientes opciones \\n1.Ordenar la lista de forma ascendente \\n2.Ordenar la lista de forma descendente \\n(Ingrese 1 o 2)\"))\n",
        "if orden ==1:\n",
        "  alumnos.sort()\n",
        "  for i in alumnos:\n",
        "    print(i)\n",
        "elif orden ==2:\n",
        "  alumnos.sort(reverse=True)\n",
        "  for i in alumnos:\n",
        "    print(i)\n",
        "else:\n",
        "  orden=int(input(\"La opción ingresada es invalida porfavor ingrese otra: \"))\n",
        "alumnos.sort()"
      ],
      "metadata": {
        "id": "NKR3ciBKSjhr",
        "outputId": "dc4448f9-db86-48d4-870e-344a96e5d768",
        "colab": {
          "base_uri": "https://localhost:8080/"
        }
      },
      "execution_count": null,
      "outputs": [
        {
          "output_type": "stream",
          "name": "stdout",
          "text": [
            "Elija una de las siguientes opciones \n",
            "1.Ordenar la lista de forma ascendente \n",
            "2.Ordenar la lista de forma descendente \n",
            "(Ingrese 1 o 2)1\n",
            "Abud Laspiur, Lourdes Mariel\n",
            "Alurralde, Solange Stefania\n",
            "Alvarado, Ludmila Del Milagro\n",
            "Amador, Luana Micaela\n",
            "Anaquin, Leonardo Ezequiel\n",
            "Angel, Camila Juliana\n",
            "Araoz Sanchez, Lautaro Nahuel\n",
            "Arenas, Lucas Gabriel\n",
            "Argañaraz, Agostina Abril\n",
            "Barrera, Matias Ezequiel\n",
            "Barrozo Vedia, Joaquin Nicolas\n",
            "Bettinelli, Valentino\n",
            "Bracamonte Martinez, Salvador\n",
            "Caseres, Maria Antonia\n",
            "Castillo, Paulina Milagros\n",
            "Colque Rivero, Ariana Zoe Del Valle\n",
            "Correa Segovia, Hugo Mariano\n",
            "D Elia, Alvaro Tadeo\n",
            "Diaz, Dulce Maitena\n",
            "Figueroa, Santino Josue\n",
            "Flores Cardozo, Agustina Tiara\n",
            "Flores, Victoria Agustina\n",
            "Gallo, Octavio Ismael\n",
            "Galvan, Lourdes Yamila\n",
            "Geronimo Soriano, Lizzie Amaya\n",
            "Giangreco, Vitto Tomasso\n",
            "Grancara, Martina Luna\n",
            "Guanca, Sara Elizabeth\n",
            "Guzman, Angélica Morena\n",
            "Guzman, Jazmin Esmeralda Belen\n",
            "Jaime, Anita Maria Belen\n",
            "Lacour Polo, Nazarena\n",
            "Lascano Guanca, Marcelo Fabricio\n",
            "Lezcano, Celia Morena\n",
            "Lopez, Victoria Constanza\n",
            "Mamani Garrido, Rosario Agostina\n",
            "Mamani Kynast, Nicolas Mauricio\n",
            "Marinaro, Martin Ezequiel\n",
            "Martinez, Tomas Andres\n",
            "Merluzzi Dagum, Ignacio\n",
            "Messina, Martina\n",
            "Portella Valdivia, Pedro Francisco\n",
            "Rasuk, Karim\n",
            "Retamal Cisneros, Zacarias Josue\n",
            "Rios, Lucia Magali\n",
            "Rosales, Francisco Gabriel\n",
            "Salem Barba, Mahia\n",
            "Sanchez Flores, Matías Agustín\n",
            "Scarano, Renato Marcelo\n",
            "Sierra, Lucas Mauricio\n",
            "Soto Camara, Agustin Ignacio\n",
            "Tapia, Martin Gabriel\n",
            "Villalba, Irina\n",
            "Vilte, Mia Antonella Alondra\n",
            "Virgillito, Katya Milena\n",
            "Voltolini, Emanuel Tobias\n",
            "Zalazar, Santino Stefano\n"
          ]
        }
      ]
    },
    {
      "cell_type": "markdown",
      "source": [
        "7. - Crea, a partir de la lista estudiantes, una nueva lista tupla_estudiantes que contenga los nombres en formato de tuplas, donde el primer elemento sea el apellido y el segundo el nombre.\n",
        "  - Muestra cada tupla de la nueva lista.\n"
      ],
      "metadata": {
        "id": "7wb4sRbOSkdM"
      }
    },
    {
      "cell_type": "code",
      "source": [
        "tupla_estudiantes=[]\n",
        "for alumno in alumnos:\n",
        "  apellido,nombre=alumno.split(\",\")\n",
        "  tupla_estudiantes.append((apellido,nombre))\n",
        "for estudiante in tupla_estudiantes:\n",
        "  print(estudiante)"
      ],
      "metadata": {
        "id": "f9v0mfoZS9_s",
        "outputId": "1b733a94-de90-43b7-bb7b-0517b02f6a7d",
        "colab": {
          "base_uri": "https://localhost:8080/"
        }
      },
      "execution_count": 5,
      "outputs": [
        {
          "output_type": "stream",
          "name": "stdout",
          "text": [
            "('Alurralde', ' Solange Stefania')\n",
            "('Alvarado', ' Ludmila Del Milagro')\n",
            "('Angel', ' Camila Juliana')\n",
            "('Arenas', ' Lucas Gabriel')\n",
            "('Caseres', ' Maria Antonia')\n",
            "('Castillo', ' Paulina Milagros')\n",
            "('Correa Segovia', ' Hugo Mariano')\n",
            "('D Elia', ' Alvaro Tadeo')\n",
            "('Flores', ' Victoria Agustina')\n",
            "('Geronimo Soriano', ' Lizzie Amaya')\n",
            "('Guzman', ' Angélica Morena')\n",
            "('Guzman', ' Jazmin Esmeralda Belen')\n",
            "('Jaime', ' Anita Maria Belen')\n",
            "('Lacour Polo', ' Nazarena')\n",
            "('Lascano Guanca', ' Marcelo Fabricio')\n",
            "('Lezcano', ' Celia Morena')\n",
            "('Mamani Kynast', ' Nicolas Mauricio')\n",
            "('Martinez', ' Tomas Andres')\n",
            "('Portella Valdivia', ' Pedro Francisco')\n",
            "('Retamal Cisneros', ' Zacarias Josue')\n",
            "('Rosales', ' Francisco Gabriel')\n",
            "('Salem Barba', ' Mahia')\n",
            "('Soto Camara', ' Agustin Ignacio')\n",
            "('Villalba', ' Irina')\n",
            "('Voltolini', ' Emanuel Tobias')\n",
            "('Zalazar', ' Santino Stefano')\n",
            "('Abud Laspiur', ' Lourdes Mariel')\n",
            "('Amador', ' Luana Micaela')\n",
            "('Anaquin', ' Leonardo Ezequiel')\n",
            "('Araoz Sanchez', ' Lautaro Nahuel')\n",
            "('Argañaraz', ' Agostina Abril')\n",
            "('Barrera', ' Matias Ezequiel')\n",
            "('Barrozo Vedia', ' Joaquin Nicolas')\n",
            "('Bettinelli', ' Valentino')\n",
            "('Bracamonte Martinez', ' Salvador')\n",
            "('Colque Rivero', ' Ariana Zoe Del Valle')\n",
            "('Diaz', ' Dulce Maitena')\n",
            "('Figueroa', ' Santino Josue')\n",
            "('Flores Cardozo', ' Agustina Tiara')\n",
            "('Gallo', ' Octavio Ismael')\n",
            "('Galvan', ' Lourdes Yamila')\n",
            "('Giangreco', ' Vitto Tomasso')\n",
            "('Grancara', ' Martina Luna')\n",
            "('Guanca', ' Sara Elizabeth')\n",
            "('Lopez', ' Victoria Constanza')\n",
            "('Mamani Garrido', ' Rosario Agostina')\n",
            "('Marinaro', ' Martin Ezequiel')\n",
            "('Merluzzi Dagum', ' Ignacio')\n",
            "('Messina', ' Martina')\n",
            "('Rasuk', ' Karim')\n",
            "('Rios', ' Lucia Magali')\n",
            "('Sanchez Flores', ' Matías Agustín')\n",
            "('Scarano', ' Renato Marcelo')\n",
            "('Sierra', ' Lucas Mauricio')\n",
            "('Tapia', ' Martin Gabriel')\n",
            "('Vilte', ' Mia Antonella Alondra')\n",
            "('Virgillito', ' Katya Milena')\n"
          ]
        }
      ]
    },
    {
      "cell_type": "markdown",
      "source": [
        "8. Crea un menú como el del ejercicio 6, pero ahora permite elegir si ordenar alfabéticamente por nombre o por apellido.\n",
        "> Para resolver este ejercicio, solicitar ayuda en clase o en el foro\n"
      ],
      "metadata": {
        "id": "PziNZOOBS_UQ"
      }
    },
    {
      "cell_type": "code",
      "source": [
        "def segundo_elemento(tupla):\n",
        "   return tupla[1]"
      ],
      "metadata": {
        "id": "UOmTRxqzJADu"
      },
      "execution_count": null,
      "outputs": []
    },
    {
      "cell_type": "code",
      "source": [
        "opciones=input(\"Elija: \\na. Ordenar la lista alfabeticamente por apellido \\nad. Ordenar por apellido de forma descendente \\nna. Ordenar por nombre de forma ascendente \\nnd. Ordenar por nombre de forma descendente \\nInserte la opcion deseada (a,ad,na,nd): \")\n",
        "opciones=opciones.lower()\n",
        "if opciones == \"a\":\n",
        "   tupla_estudiantes.sort()\n",
        "   for i in tupla_estudiantes:\n",
        "     print(i)\n",
        "elif opciones == \"ad\":\n",
        "   tupla_estudiantes.sort(reverse=True)\n",
        "   for i in tupla_estudiantes:\n",
        "      print(i)\n",
        "elif opciones == \"na\":\n",
        "   tupla_estudiantes.sort(key=segundo_elemento)\n",
        "   for i in tupla_estudiantes:\n",
        "     print(i)\n",
        "elif opciones == \"nd\":\n",
        "   tupla_estudiantes.sort(key=segundo_elemento,reverse=True)\n",
        "   for i in tupla_estudiantes:\n",
        "     print(i)\n",
        "else:\n",
        "   opciones=int(input(\"La opción ingresada es invalida porfavor ingrese otra: \"))"
      ],
      "metadata": {
        "id": "X7Xu-KyaTWth",
        "outputId": "81d7adc9-8609-44c3-8359-90fa58756a6a",
        "colab": {
          "base_uri": "https://localhost:8080/"
        }
      },
      "execution_count": null,
      "outputs": [
        {
          "output_type": "stream",
          "name": "stdout",
          "text": [
            "Elija: \n",
            "a. Ordenar la lista alfabeticamente por apellido \n",
            "ad. Ordenar por apellido de forma descendente \n",
            "na. Ordenar por nombre de forma ascendente \n",
            "nd. Ordenar por nombre de forma descendente \n",
            "Inserte la opcion deseada (a,ad,na,nd): nd\n",
            "('Retamal Cisneros', ' Zacarias Josue')\n",
            "('Giangreco', ' Vitto Tomasso')\n",
            "('Lopez', ' Victoria Constanza')\n",
            "('Flores', ' Victoria Agustina')\n",
            "('Bettinelli', ' Valentino')\n",
            "('Martinez', ' Tomas Andres')\n",
            "('Alurralde', ' Solange Stefania')\n",
            "('Guanca', ' Sara Elizabeth')\n",
            "('Zalazar', ' Santino Stefano')\n",
            "('Figueroa', ' Santino Josue')\n",
            "('Bracamonte Martinez', ' Salvador')\n",
            "('Mamani Garrido', ' Rosario Agostina')\n",
            "('Scarano', ' Renato Marcelo')\n",
            "('Portella Valdivia', ' Pedro Francisco')\n",
            "('Castillo', ' Paulina Milagros')\n",
            "('Gallo', ' Octavio Ismael')\n",
            "('Mamani Kynast', ' Nicolas Mauricio')\n",
            "('Lacour Polo', ' Nazarena')\n",
            "('Vilte', ' Mia Antonella Alondra')\n",
            "('Sanchez Flores', ' Matías Agustín')\n",
            "('Barrera', ' Matias Ezequiel')\n",
            "('Grancara', ' Martina Luna')\n",
            "('Messina', ' Martina')\n",
            "('Tapia', ' Martin Gabriel')\n",
            "('Marinaro', ' Martin Ezequiel')\n",
            "('Caseres', ' Maria Antonia')\n",
            "('Lascano Guanca', ' Marcelo Fabricio')\n",
            "('Salem Barba', ' Mahia')\n",
            "('Alvarado', ' Ludmila Del Milagro')\n",
            "('Rios', ' Lucia Magali')\n",
            "('Sierra', ' Lucas Mauricio')\n",
            "('Arenas', ' Lucas Gabriel')\n",
            "('Amador', ' Luana Micaela')\n",
            "('Galvan', ' Lourdes Yamila')\n",
            "('Abud Laspiur', ' Lourdes Mariel')\n",
            "('Geronimo Soriano', ' Lizzie Amaya')\n",
            "('Anaquin', ' Leonardo Ezequiel')\n",
            "('Araoz Sanchez', ' Lautaro Nahuel')\n",
            "('Virgillito', ' Katya Milena')\n",
            "('Rasuk', ' Karim')\n",
            "('Barrozo Vedia', ' Joaquin Nicolas')\n",
            "('Guzman', ' Jazmin Esmeralda Belen')\n",
            "('Villalba', ' Irina')\n",
            "('Merluzzi Dagum', ' Ignacio')\n",
            "('Correa Segovia', ' Hugo Mariano')\n",
            "('Rosales', ' Francisco Gabriel')\n",
            "('Voltolini', ' Emanuel Tobias')\n",
            "('Diaz', ' Dulce Maitena')\n",
            "('Lezcano', ' Celia Morena')\n",
            "('Angel', ' Camila Juliana')\n",
            "('Colque Rivero', ' Ariana Zoe Del Valle')\n",
            "('Jaime', ' Anita Maria Belen')\n",
            "('Guzman', ' Angélica Morena')\n",
            "('D Elia', ' Alvaro Tadeo')\n",
            "('Flores Cardozo', ' Agustina Tiara')\n",
            "('Soto Camara', ' Agustin Ignacio')\n",
            "('Argañaraz', ' Agostina Abril')\n"
          ]
        }
      ]
    },
    {
      "cell_type": "markdown",
      "source": [
        "9. Agrega un dato en la posición siguiente a la de tu nombre en el nuevo formato de tupla. Para esto solicita al usuario su nombre y apellido, almacena estos datos en una tupla y agrega la misma a la lista \"tupla_estudiantes\""
      ],
      "metadata": {
        "id": "mtnmvoZ9TXii"
      }
    },
    {
      "cell_type": "code",
      "source": [
        "nombre=input(\"Ingrese el nombre que desea agregar: \").title()\n",
        "apellido=input(\"Ingrese el apellido que desea agregar: \").title()\n",
        "tupla=(apellido, nombre)\n",
        "tupla_estudiantes.insert(51,tupla)\n",
        "for i in tupla_estudiantes:\n",
        "   print(i)"
      ],
      "metadata": {
        "id": "RSXz_XcvT0Nc",
        "outputId": "a57e342f-7eef-49bc-ee6f-dba400be0b73",
        "colab": {
          "base_uri": "https://localhost:8080/"
        }
      },
      "execution_count": null,
      "outputs": [
        {
          "output_type": "stream",
          "name": "stdout",
          "text": [
            "Ingrese el nombre que desea agregar: Juan Manuel\n",
            "Ingrese el apellido que desea agregar: Roca\n",
            "('Alurralde', ' Solange Stefania')\n",
            "('Alvarado', ' Ludmila Del Milagro')\n",
            "('Angel', ' Camila Juliana')\n",
            "('Arenas', ' Lucas Gabriel')\n",
            "('Caseres', ' Maria Antonia')\n",
            "('Castillo', ' Paulina Milagros')\n",
            "('Correa Segovia', ' Hugo Mariano')\n",
            "('D Elia', ' Alvaro Tadeo')\n",
            "('Flores', ' Victoria Agustina')\n",
            "('Geronimo Soriano', ' Lizzie Amaya')\n",
            "('Guzman', ' Angélica Morena')\n",
            "('Guzman', ' Jazmin Esmeralda Belen')\n",
            "('Jaime', ' Anita Maria Belen')\n",
            "('Lacour Polo', ' Nazarena')\n",
            "('Lascano Guanca', ' Marcelo Fabricio')\n",
            "('Lezcano', ' Celia Morena')\n",
            "('Mamani Kynast', ' Nicolas Mauricio')\n",
            "('Martinez', ' Tomas Andres')\n",
            "('Portella Valdivia', ' Pedro Francisco')\n",
            "('Retamal Cisneros', ' Zacarias Josue')\n",
            "('Rosales', ' Francisco Gabriel')\n",
            "('Salem Barba', ' Mahia')\n",
            "('Soto Camara', ' Agustin Ignacio')\n",
            "('Villalba', ' Irina')\n",
            "('Voltolini', ' Emanuel Tobias')\n",
            "('Zalazar', ' Santino Stefano')\n",
            "('Abud Laspiur', ' Lourdes Mariel')\n",
            "('Amador', ' Luana Micaela')\n",
            "('Anaquin', ' Leonardo Ezequiel')\n",
            "('Araoz Sanchez', ' Lautaro Nahuel')\n",
            "('Argañaraz', ' Agostina Abril')\n",
            "('Barrera', ' Matias Ezequiel')\n",
            "('Barrozo Vedia', ' Joaquin Nicolas')\n",
            "('Bettinelli', ' Valentino')\n",
            "('Bracamonte Martinez', ' Salvador')\n",
            "('Colque Rivero', ' Ariana Zoe Del Valle')\n",
            "('Diaz', ' Dulce Maitena')\n",
            "('Figueroa', ' Santino Josue')\n",
            "('Flores Cardozo', ' Agustina Tiara')\n",
            "('Gallo', ' Octavio Ismael')\n",
            "('Galvan', ' Lourdes Yamila')\n",
            "('Giangreco', ' Vitto Tomasso')\n",
            "('Grancara', ' Martina Luna')\n",
            "('Guanca', ' Sara Elizabeth')\n",
            "('Lopez', ' Victoria Constanza')\n",
            "('Mamani Garrido', ' Rosario Agostina')\n",
            "('Marinaro', ' Martin Ezequiel')\n",
            "('Merluzzi Dagum', ' Ignacio')\n",
            "('Messina', ' Martina')\n",
            "('Rasuk', ' Karim')\n",
            "('Rios', ' Lucia Magali')\n",
            "('Roca', 'Juan Manuel')\n",
            "('Sanchez Flores', ' Matías Agustín')\n",
            "('Scarano', ' Renato Marcelo')\n",
            "('Sierra', ' Lucas Mauricio')\n",
            "('Tapia', ' Martin Gabriel')\n",
            "('Vilte', ' Mia Antonella Alondra')\n",
            "('Virgillito', ' Katya Milena')\n",
            "('Zarapura', 'Milagros Sara')\n"
          ]
        }
      ]
    },
    {
      "cell_type": "markdown",
      "source": [
        "10. - Pedir al usuario un nombre y mostrar todos los estudiantes que tengan ese nombre.\n",
        "  - Hacer lo mismo con un apellido.\n"
      ],
      "metadata": {
        "id": "dY4y7OVPT1FT"
      }
    },
    {
      "cell_type": "code",
      "source": [
        "nom=input(\"Ingrese un nombre: \").title()\n",
        "for i in tupla_estudiantes:\n",
        "  if nom in segundo_elemento(i):\n",
        "     print(i)\n",
        "\n",
        "apellido=input(\"Ingrese un apellido: \").title()\n",
        "for i in tupla_estudiantes:\n",
        "  if apellido in i:\n",
        "     print(i)\n",
        "\n"
      ],
      "metadata": {
        "id": "bVTVfjH4VMBM",
        "outputId": "69b6ff31-e340-41c0-901b-3250f52f79b4",
        "colab": {
          "base_uri": "https://localhost:8080/"
        }
      },
      "execution_count": null,
      "outputs": [
        {
          "output_type": "stream",
          "name": "stdout",
          "text": [
            "Ingrese un nombre: Ignacio\n",
            "('Merluzzi Dagum', ' Ignacio')\n",
            "('Soto Camara', ' Agustin Ignacio')\n",
            "Ingrese un apellido: Guzman\n",
            "('Guzman', ' Jazmin Esmeralda Belen')\n",
            "('Guzman', ' Angélica Morena')\n"
          ]
        }
      ]
    },
    {
      "cell_type": "markdown",
      "source": [
        "11. Pedir un nombre al usuario y eliminar todos los registros donde se encuentre un estudiante con el nombre ingresado.\n"
      ],
      "metadata": {
        "id": "7zdJLrqXVM30"
      }
    },
    {
      "cell_type": "code",
      "source": [
        "n=input(\"Ingrese el nombre del alumno que desee eliminar: \").title()\n",
        "i=0\n",
        "existe=False\n",
        "for i in range(len(tupla_estudiantes)):\n",
        "  if n in tupla_estudiantes[i][1]:\n",
        "    tupla_estudiantes.pop(i)\n",
        "    existe=True\n",
        "    break\n",
        "  else:\n",
        "    i+=1\n",
        "if existe:\n",
        "  print(f\"{n} ha sido eliminado de los registros\")\n",
        "else:\n",
        "  print(\"El nombre ingresado no existe\")\n",
        "for i in tupla_estudiantes:\n",
        "  print(i)"
      ],
      "metadata": {
        "id": "3_rnimG_VQr6",
        "outputId": "02870280-2898-4df5-98a3-f74057a32822",
        "colab": {
          "base_uri": "https://localhost:8080/"
        }
      },
      "execution_count": null,
      "outputs": [
        {
          "output_type": "stream",
          "name": "stdout",
          "text": [
            "Ingrese el nombre del alumno que desee eliminar: Lucia Magali\n",
            "12 ha sido eliminado de los registros\n",
            "('Zalazar', ' Santino Stefano')\n",
            "('Voltolini', ' Emanuel Tobias')\n",
            "('Virgillito', ' Katya Milena')\n",
            "('Vilte', ' Mia Antonella Alondra')\n",
            "('Villalba', ' Irina')\n",
            "('Tapia', ' Martin Gabriel')\n",
            "('Soto Camara', ' Agustin Ignacio')\n",
            "('Sierra', ' Lucas Mauricio')\n",
            "('Scarano', ' Renato Marcelo')\n",
            "('Sanchez Flores', ' Matías Agustín')\n",
            "('Salem Barba', ' Mahia')\n",
            "('Rosales', ' Francisco Gabriel')\n",
            "('Retamal Cisneros', ' Zacarias Josue')\n",
            "('Rasuk', ' Karim')\n",
            "('Portella Valdivia', ' Pedro Francisco')\n",
            "('Messina', ' Martina')\n",
            "('Merluzzi Dagum', ' Ignacio')\n",
            "('Martinez', ' Tomas Andres')\n",
            "('Marinaro', ' Martin Ezequiel')\n",
            "('Mamani Kynast', ' Nicolas Mauricio')\n",
            "('Mamani Garrido', ' Rosario Agostina')\n",
            "('Lopez', ' Victoria Constanza')\n",
            "('Lezcano', ' Celia Morena')\n",
            "('Lascano Guanca', ' Marcelo Fabricio')\n",
            "('Lacour Polo', ' Nazarena')\n",
            "('Jaime', ' Anita Maria Belen')\n",
            "('Guzman', ' Jazmin Esmeralda Belen')\n",
            "('Guzman', ' Angélica Morena')\n",
            "('Guanca', ' Sara Elizabeth')\n",
            "('Grancara', ' Martina Luna')\n",
            "('Giangreco', ' Vitto Tomasso')\n",
            "('Geronimo Soriano', ' Lizzie Amaya')\n",
            "('Galvan', ' Lourdes Yamila')\n",
            "('Gallo', ' Octavio Ismael')\n",
            "('Flores Cardozo', ' Agustina Tiara')\n",
            "('Flores', ' Victoria Agustina')\n",
            "('Figueroa', ' Santino Josue')\n",
            "('Diaz', ' Dulce Maitena')\n",
            "('D Elia', ' Alvaro Tadeo')\n",
            "('Correa Segovia', ' Hugo Mariano')\n",
            "('Colque Rivero', ' Ariana Zoe Del Valle')\n",
            "('Castillo', ' Paulina Milagros')\n",
            "('Caseres', ' Maria Antonia')\n",
            "('Bracamonte Martinez', ' Salvador')\n",
            "('Bettinelli', ' Valentino')\n",
            "('Barrozo Vedia', ' Joaquin Nicolas')\n",
            "('Barrera', ' Matias Ezequiel')\n",
            "('Argañaraz', ' Agostina Abril')\n",
            "('Arenas', ' Lucas Gabriel')\n",
            "('Araoz Sanchez', ' Lautaro Nahuel')\n",
            "('Angel', ' Camila Juliana')\n",
            "('Anaquin', ' Leonardo Ezequiel')\n",
            "('Amador', ' Luana Micaela')\n",
            "('Alvarado', ' Ludmila Del Milagro')\n",
            "('Alurralde', ' Solange Stefania')\n",
            "('Abud Laspiur', ' Lourdes Mariel')\n"
          ]
        }
      ]
    },
    {
      "cell_type": "markdown",
      "source": [
        "12. Pedir dos apellidos al usuario, y reemplazar el primer apellido por el segundo en todos los registros donde se encuentre."
      ],
      "metadata": {
        "id": "DGU_hs0BVRfa"
      }
    },
    {
      "cell_type": "code",
      "source": [
        "apellido_1=input(\"Ingrese el primer apellido: \").title()\n",
        "apellido_2=input(\"Ingrese el segundo apellido: \").title()\n",
        "for i in range(len(tupla_estudiantes)):\n",
        "  a,j=tupla_estudiantes[i]\n",
        "  if apellido_1 in a:\n",
        "    tupla_estudiantes.pop(i)\n",
        "    tupla_1=(apellido_2,j)\n",
        "    tupla_estudiantes.insert(i,tupla_1)\n",
        "for i in tupla_estudiantes:\n",
        "    print(i)"
      ],
      "metadata": {
        "id": "ghxBxrzTV6aL",
        "outputId": "c017c2bf-7000-4e01-9ddb-a27e6a50a56e",
        "colab": {
          "base_uri": "https://localhost:8080/"
        }
      },
      "execution_count": 14,
      "outputs": [
        {
          "output_type": "stream",
          "name": "stdout",
          "text": [
            "Ingrese el primer apellido: Lezcano\n",
            "Ingrese el segundo apellido: Legrand\n",
            "('Alurralde', ' Solange Stefania')\n",
            "('Alvarado', ' Ludmila Del Milagro')\n",
            "('Angel', ' Camila Juliana')\n",
            "('Arenas', ' Lucas Gabriel')\n",
            "('Caseres', ' Maria Antonia')\n",
            "('Castillo', ' Paulina Milagros')\n",
            "('Correa Segovia', ' Hugo Mariano')\n",
            "('D Elia', ' Alvaro Tadeo')\n",
            "('Flores', ' Victoria Agustina')\n",
            "('Geronimo Soriano', ' Lizzie Amaya')\n",
            "('Guzman', ' Angélica Morena')\n",
            "('Guzman', ' Jazmin Esmeralda Belen')\n",
            "('Jaime', ' Anita Maria Belen')\n",
            "('Lacour Polo', ' Nazarena')\n",
            "('Lascano Guanca', ' Marcelo Fabricio')\n",
            "('Legrand', ' Celia Morena')\n",
            "('Mamani Kynast', ' Nicolas Mauricio')\n",
            "('Martinez', ' Tomas Andres')\n",
            "('Portella Valdivia', ' Pedro Francisco')\n",
            "('Retamal Cisneros', ' Zacarias Josue')\n",
            "('Rosales', ' Francisco Gabriel')\n",
            "('Salem Barba', ' Mahia')\n",
            "('Soto Camara', ' Agustin Ignacio')\n",
            "('Villalba', ' Irina')\n",
            "('Voltolini', ' Emanuel Tobias')\n",
            "('Zalazar', ' Santino Stefano')\n",
            "('Abud Laspiur', ' Lourdes Mariel')\n",
            "('Amador', ' Luana Micaela')\n",
            "('Anaquin', ' Leonardo Ezequiel')\n",
            "('Araoz Sanchez', ' Lautaro Nahuel')\n",
            "('Argañaraz', ' Agostina Abril')\n",
            "('Barrera', ' Matias Ezequiel')\n",
            "('Barrozo Vedia', ' Joaquin Nicolas')\n",
            "('Bettinelli', ' Valentino')\n",
            "('Bracamonte Martinez', ' Salvador')\n",
            "('Colque Rivero', ' Ariana Zoe Del Valle')\n",
            "('Diaz', ' Dulce Maitena')\n",
            "('Figueroa', ' Santino Josue')\n",
            "('Flores Cardozo', ' Agustina Tiara')\n",
            "('Gallo', ' Octavio Ismael')\n",
            "('Galvan', ' Lourdes Yamila')\n",
            "('Giangreco', ' Vitto Tomasso')\n",
            "('Grancara', ' Martina Luna')\n",
            "('Guanca', ' Sara Elizabeth')\n",
            "('Lopez', ' Victoria Constanza')\n",
            "('Mamani Garrido', ' Rosario Agostina')\n",
            "('Marinaro', ' Martin Ezequiel')\n",
            "('Merluzzi Dagum', ' Ignacio')\n",
            "('Messina', ' Martina')\n",
            "('Rasuk', ' Karim')\n",
            "('Rios', ' Lucia Magali')\n",
            "('Sanchez Flores', ' Matías Agustín')\n",
            "('Scarano', ' Renato Marcelo')\n",
            "('Sierra', ' Lucas Mauricio')\n",
            "('Tapia', ' Martin Gabriel')\n",
            "('Vilte', ' Mia Antonella Alondra')\n",
            "('Virgillito', ' Katya Milena')\n"
          ]
        }
      ]
    }
  ]
}